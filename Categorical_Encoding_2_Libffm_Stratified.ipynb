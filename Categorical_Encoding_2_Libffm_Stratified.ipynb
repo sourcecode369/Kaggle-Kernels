{
  "nbformat": 4,
  "nbformat_minor": 0,
  "metadata": {
    "colab": {
      "name": "Categorical Encoding 2 - Libffm Stratified.ipynb",
      "provenance": [],
      "authorship_tag": "ABX9TyOI3kqD/HXRVlsSiiZdif2/",
      "include_colab_link": true
    },
    "kernelspec": {
      "name": "python3",
      "display_name": "Python 3"
    },
    "accelerator": "GPU"
  },
  "cells": [
    {
      "cell_type": "markdown",
      "metadata": {
        "id": "view-in-github",
        "colab_type": "text"
      },
      "source": [
        "<a href=\"https://colab.research.google.com/github/sourcecode369/Kaggle-Kernels/blob/master/Categorical_Encoding_2_Libffm_Stratified.ipynb\" target=\"_parent\"><img src=\"https://colab.research.google.com/assets/colab-badge.svg\" alt=\"Open In Colab\"/></a>"
      ]
    },
    {
      "cell_type": "code",
      "metadata": {
        "id": "Vqmd6D2NHxf7",
        "colab_type": "code",
        "outputId": "e4912d40-edc9-45df-affc-898933e9e3e9",
        "colab": {
          "resources": {
            "http://localhost:8080/nbextensions/google.colab/files.js": {
              "data": "Ly8gQ29weXJpZ2h0IDIwMTcgR29vZ2xlIExMQwovLwovLyBMaWNlbnNlZCB1bmRlciB0aGUgQXBhY2hlIExpY2Vuc2UsIFZlcnNpb24gMi4wICh0aGUgIkxpY2Vuc2UiKTsKLy8geW91IG1heSBub3QgdXNlIHRoaXMgZmlsZSBleGNlcHQgaW4gY29tcGxpYW5jZSB3aXRoIHRoZSBMaWNlbnNlLgovLyBZb3UgbWF5IG9idGFpbiBhIGNvcHkgb2YgdGhlIExpY2Vuc2UgYXQKLy8KLy8gICAgICBodHRwOi8vd3d3LmFwYWNoZS5vcmcvbGljZW5zZXMvTElDRU5TRS0yLjAKLy8KLy8gVW5sZXNzIHJlcXVpcmVkIGJ5IGFwcGxpY2FibGUgbGF3IG9yIGFncmVlZCB0byBpbiB3cml0aW5nLCBzb2Z0d2FyZQovLyBkaXN0cmlidXRlZCB1bmRlciB0aGUgTGljZW5zZSBpcyBkaXN0cmlidXRlZCBvbiBhbiAiQVMgSVMiIEJBU0lTLAovLyBXSVRIT1VUIFdBUlJBTlRJRVMgT1IgQ09ORElUSU9OUyBPRiBBTlkgS0lORCwgZWl0aGVyIGV4cHJlc3Mgb3IgaW1wbGllZC4KLy8gU2VlIHRoZSBMaWNlbnNlIGZvciB0aGUgc3BlY2lmaWMgbGFuZ3VhZ2UgZ292ZXJuaW5nIHBlcm1pc3Npb25zIGFuZAovLyBsaW1pdGF0aW9ucyB1bmRlciB0aGUgTGljZW5zZS4KCi8qKgogKiBAZmlsZW92ZXJ2aWV3IEhlbHBlcnMgZm9yIGdvb2dsZS5jb2xhYiBQeXRob24gbW9kdWxlLgogKi8KKGZ1bmN0aW9uKHNjb3BlKSB7CmZ1bmN0aW9uIHNwYW4odGV4dCwgc3R5bGVBdHRyaWJ1dGVzID0ge30pIHsKICBjb25zdCBlbGVtZW50ID0gZG9jdW1lbnQuY3JlYXRlRWxlbWVudCgnc3BhbicpOwogIGVsZW1lbnQudGV4dENvbnRlbnQgPSB0ZXh0OwogIGZvciAoY29uc3Qga2V5IG9mIE9iamVjdC5rZXlzKHN0eWxlQXR0cmlidXRlcykpIHsKICAgIGVsZW1lbnQuc3R5bGVba2V5XSA9IHN0eWxlQXR0cmlidXRlc1trZXldOwogIH0KICByZXR1cm4gZWxlbWVudDsKfQoKLy8gTWF4IG51bWJlciBvZiBieXRlcyB3aGljaCB3aWxsIGJlIHVwbG9hZGVkIGF0IGEgdGltZS4KY29uc3QgTUFYX1BBWUxPQURfU0laRSA9IDEwMCAqIDEwMjQ7Ci8vIE1heCBhbW91bnQgb2YgdGltZSB0byBibG9jayB3YWl0aW5nIGZvciB0aGUgdXNlci4KY29uc3QgRklMRV9DSEFOR0VfVElNRU9VVF9NUyA9IDMwICogMTAwMDsKCmZ1bmN0aW9uIF91cGxvYWRGaWxlcyhpbnB1dElkLCBvdXRwdXRJZCkgewogIGNvbnN0IHN0ZXBzID0gdXBsb2FkRmlsZXNTdGVwKGlucHV0SWQsIG91dHB1dElkKTsKICBjb25zdCBvdXRwdXRFbGVtZW50ID0gZG9jdW1lbnQuZ2V0RWxlbWVudEJ5SWQob3V0cHV0SWQpOwogIC8vIENhY2hlIHN0ZXBzIG9uIHRoZSBvdXRwdXRFbGVtZW50IHRvIG1ha2UgaXQgYXZhaWxhYmxlIGZvciB0aGUgbmV4dCBjYWxsCiAgLy8gdG8gdXBsb2FkRmlsZXNDb250aW51ZSBmcm9tIFB5dGhvbi4KICBvdXRwdXRFbGVtZW50LnN0ZXBzID0gc3RlcHM7CgogIHJldHVybiBfdXBsb2FkRmlsZXNDb250aW51ZShvdXRwdXRJZCk7Cn0KCi8vIFRoaXMgaXMgcm91Z2hseSBhbiBhc3luYyBnZW5lcmF0b3IgKG5vdCBzdXBwb3J0ZWQgaW4gdGhlIGJyb3dzZXIgeWV0KSwKLy8gd2hlcmUgdGhlcmUgYXJlIG11bHRpcGxlIGFzeW5jaHJvbm91cyBzdGVwcyBhbmQgdGhlIFB5dGhvbiBzaWRlIGlzIGdvaW5nCi8vIHRvIHBvbGwgZm9yIGNvbXBsZXRpb24gb2YgZWFjaCBzdGVwLgovLyBUaGlzIHVzZXMgYSBQcm9taXNlIHRvIGJsb2NrIHRoZSBweXRob24gc2lkZSBvbiBjb21wbGV0aW9uIG9mIGVhY2ggc3RlcCwKLy8gdGhlbiBwYXNzZXMgdGhlIHJlc3VsdCBvZiB0aGUgcHJldmlvdXMgc3RlcCBhcyB0aGUgaW5wdXQgdG8gdGhlIG5leHQgc3RlcC4KZnVuY3Rpb24gX3VwbG9hZEZpbGVzQ29udGludWUob3V0cHV0SWQpIHsKICBjb25zdCBvdXRwdXRFbGVtZW50ID0gZG9jdW1lbnQuZ2V0RWxlbWVudEJ5SWQob3V0cHV0SWQpOwogIGNvbnN0IHN0ZXBzID0gb3V0cHV0RWxlbWVudC5zdGVwczsKCiAgY29uc3QgbmV4dCA9IHN0ZXBzLm5leHQob3V0cHV0RWxlbWVudC5sYXN0UHJvbWlzZVZhbHVlKTsKICByZXR1cm4gUHJvbWlzZS5yZXNvbHZlKG5leHQudmFsdWUucHJvbWlzZSkudGhlbigodmFsdWUpID0+IHsKICAgIC8vIENhY2hlIHRoZSBsYXN0IHByb21pc2UgdmFsdWUgdG8gbWFrZSBpdCBhdmFpbGFibGUgdG8gdGhlIG5leHQKICAgIC8vIHN0ZXAgb2YgdGhlIGdlbmVyYXRvci4KICAgIG91dHB1dEVsZW1lbnQubGFzdFByb21pc2VWYWx1ZSA9IHZhbHVlOwogICAgcmV0dXJuIG5leHQudmFsdWUucmVzcG9uc2U7CiAgfSk7Cn0KCi8qKgogKiBHZW5lcmF0b3IgZnVuY3Rpb24gd2hpY2ggaXMgY2FsbGVkIGJldHdlZW4gZWFjaCBhc3luYyBzdGVwIG9mIHRoZSB1cGxvYWQKICogcHJvY2Vzcy4KICogQHBhcmFtIHtzdHJpbmd9IGlucHV0SWQgRWxlbWVudCBJRCBvZiB0aGUgaW5wdXQgZmlsZSBwaWNrZXIgZWxlbWVudC4KICogQHBhcmFtIHtzdHJpbmd9IG91dHB1dElkIEVsZW1lbnQgSUQgb2YgdGhlIG91dHB1dCBkaXNwbGF5LgogKiBAcmV0dXJuIHshSXRlcmFibGU8IU9iamVjdD59IEl0ZXJhYmxlIG9mIG5leHQgc3RlcHMuCiAqLwpmdW5jdGlvbiogdXBsb2FkRmlsZXNTdGVwKGlucHV0SWQsIG91dHB1dElkKSB7CiAgY29uc3QgaW5wdXRFbGVtZW50ID0gZG9jdW1lbnQuZ2V0RWxlbWVudEJ5SWQoaW5wdXRJZCk7CiAgaW5wdXRFbGVtZW50LmRpc2FibGVkID0gZmFsc2U7CgogIGNvbnN0IG91dHB1dEVsZW1lbnQgPSBkb2N1bWVudC5nZXRFbGVtZW50QnlJZChvdXRwdXRJZCk7CiAgb3V0cHV0RWxlbWVudC5pbm5lckhUTUwgPSAnJzsKCiAgY29uc3QgcGlja2VkUHJvbWlzZSA9IG5ldyBQcm9taXNlKChyZXNvbHZlKSA9PiB7CiAgICBpbnB1dEVsZW1lbnQuYWRkRXZlbnRMaXN0ZW5lcignY2hhbmdlJywgKGUpID0+IHsKICAgICAgcmVzb2x2ZShlLnRhcmdldC5maWxlcyk7CiAgICB9KTsKICB9KTsKCiAgY29uc3QgY2FuY2VsID0gZG9jdW1lbnQuY3JlYXRlRWxlbWVudCgnYnV0dG9uJyk7CiAgaW5wdXRFbGVtZW50LnBhcmVudEVsZW1lbnQuYXBwZW5kQ2hpbGQoY2FuY2VsKTsKICBjYW5jZWwudGV4dENvbnRlbnQgPSAnQ2FuY2VsIHVwbG9hZCc7CiAgY29uc3QgY2FuY2VsUHJvbWlzZSA9IG5ldyBQcm9taXNlKChyZXNvbHZlKSA9PiB7CiAgICBjYW5jZWwub25jbGljayA9ICgpID0+IHsKICAgICAgcmVzb2x2ZShudWxsKTsKICAgIH07CiAgfSk7CgogIC8vIENhbmNlbCB1cGxvYWQgaWYgdXNlciBoYXNuJ3QgcGlja2VkIGFueXRoaW5nIGluIHRpbWVvdXQuCiAgY29uc3QgdGltZW91dFByb21pc2UgPSBuZXcgUHJvbWlzZSgocmVzb2x2ZSkgPT4gewogICAgc2V0VGltZW91dCgoKSA9PiB7CiAgICAgIHJlc29sdmUobnVsbCk7CiAgICB9LCBGSUxFX0NIQU5HRV9USU1FT1VUX01TKTsKICB9KTsKCiAgLy8gV2FpdCBmb3IgdGhlIHVzZXIgdG8gcGljayB0aGUgZmlsZXMuCiAgY29uc3QgZmlsZXMgPSB5aWVsZCB7CiAgICBwcm9taXNlOiBQcm9taXNlLnJhY2UoW3BpY2tlZFByb21pc2UsIHRpbWVvdXRQcm9taXNlLCBjYW5jZWxQcm9taXNlXSksCiAgICByZXNwb25zZTogewogICAgICBhY3Rpb246ICdzdGFydGluZycsCiAgICB9CiAgfTsKCiAgaWYgKCFmaWxlcykgewogICAgcmV0dXJuIHsKICAgICAgcmVzcG9uc2U6IHsKICAgICAgICBhY3Rpb246ICdjb21wbGV0ZScsCiAgICAgIH0KICAgIH07CiAgfQoKICBjYW5jZWwucmVtb3ZlKCk7CgogIC8vIERpc2FibGUgdGhlIGlucHV0IGVsZW1lbnQgc2luY2UgZnVydGhlciBwaWNrcyBhcmUgbm90IGFsbG93ZWQuCiAgaW5wdXRFbGVtZW50LmRpc2FibGVkID0gdHJ1ZTsKCiAgZm9yIChjb25zdCBmaWxlIG9mIGZpbGVzKSB7CiAgICBjb25zdCBsaSA9IGRvY3VtZW50LmNyZWF0ZUVsZW1lbnQoJ2xpJyk7CiAgICBsaS5hcHBlbmQoc3BhbihmaWxlLm5hbWUsIHtmb250V2VpZ2h0OiAnYm9sZCd9KSk7CiAgICBsaS5hcHBlbmQoc3BhbigKICAgICAgICBgKCR7ZmlsZS50eXBlIHx8ICduL2EnfSkgLSAke2ZpbGUuc2l6ZX0gYnl0ZXMsIGAgKwogICAgICAgIGBsYXN0IG1vZGlmaWVkOiAkewogICAgICAgICAgICBmaWxlLmxhc3RNb2RpZmllZERhdGUgPyBmaWxlLmxhc3RNb2RpZmllZERhdGUudG9Mb2NhbGVEYXRlU3RyaW5nKCkgOgogICAgICAgICAgICAgICAgICAgICAgICAgICAgICAgICAgICAnbi9hJ30gLSBgKSk7CiAgICBjb25zdCBwZXJjZW50ID0gc3BhbignMCUgZG9uZScpOwogICAgbGkuYXBwZW5kQ2hpbGQocGVyY2VudCk7CgogICAgb3V0cHV0RWxlbWVudC5hcHBlbmRDaGlsZChsaSk7CgogICAgY29uc3QgZmlsZURhdGFQcm9taXNlID0gbmV3IFByb21pc2UoKHJlc29sdmUpID0+IHsKICAgICAgY29uc3QgcmVhZGVyID0gbmV3IEZpbGVSZWFkZXIoKTsKICAgICAgcmVhZGVyLm9ubG9hZCA9IChlKSA9PiB7CiAgICAgICAgcmVzb2x2ZShlLnRhcmdldC5yZXN1bHQpOwogICAgICB9OwogICAgICByZWFkZXIucmVhZEFzQXJyYXlCdWZmZXIoZmlsZSk7CiAgICB9KTsKICAgIC8vIFdhaXQgZm9yIHRoZSBkYXRhIHRvIGJlIHJlYWR5LgogICAgbGV0IGZpbGVEYXRhID0geWllbGQgewogICAgICBwcm9taXNlOiBmaWxlRGF0YVByb21pc2UsCiAgICAgIHJlc3BvbnNlOiB7CiAgICAgICAgYWN0aW9uOiAnY29udGludWUnLAogICAgICB9CiAgICB9OwoKICAgIC8vIFVzZSBhIGNodW5rZWQgc2VuZGluZyB0byBhdm9pZCBtZXNzYWdlIHNpemUgbGltaXRzLiBTZWUgYi82MjExNTY2MC4KICAgIGxldCBwb3NpdGlvbiA9IDA7CiAgICB3aGlsZSAocG9zaXRpb24gPCBmaWxlRGF0YS5ieXRlTGVuZ3RoKSB7CiAgICAgIGNvbnN0IGxlbmd0aCA9IE1hdGgubWluKGZpbGVEYXRhLmJ5dGVMZW5ndGggLSBwb3NpdGlvbiwgTUFYX1BBWUxPQURfU0laRSk7CiAgICAgIGNvbnN0IGNodW5rID0gbmV3IFVpbnQ4QXJyYXkoZmlsZURhdGEsIHBvc2l0aW9uLCBsZW5ndGgpOwogICAgICBwb3NpdGlvbiArPSBsZW5ndGg7CgogICAgICBjb25zdCBiYXNlNjQgPSBidG9hKFN0cmluZy5mcm9tQ2hhckNvZGUuYXBwbHkobnVsbCwgY2h1bmspKTsKICAgICAgeWllbGQgewogICAgICAgIHJlc3BvbnNlOiB7CiAgICAgICAgICBhY3Rpb246ICdhcHBlbmQnLAogICAgICAgICAgZmlsZTogZmlsZS5uYW1lLAogICAgICAgICAgZGF0YTogYmFzZTY0LAogICAgICAgIH0sCiAgICAgIH07CiAgICAgIHBlcmNlbnQudGV4dENvbnRlbnQgPQogICAgICAgICAgYCR7TWF0aC5yb3VuZCgocG9zaXRpb24gLyBmaWxlRGF0YS5ieXRlTGVuZ3RoKSAqIDEwMCl9JSBkb25lYDsKICAgIH0KICB9CgogIC8vIEFsbCBkb25lLgogIHlpZWxkIHsKICAgIHJlc3BvbnNlOiB7CiAgICAgIGFjdGlvbjogJ2NvbXBsZXRlJywKICAgIH0KICB9Owp9CgpzY29wZS5nb29nbGUgPSBzY29wZS5nb29nbGUgfHwge307CnNjb3BlLmdvb2dsZS5jb2xhYiA9IHNjb3BlLmdvb2dsZS5jb2xhYiB8fCB7fTsKc2NvcGUuZ29vZ2xlLmNvbGFiLl9maWxlcyA9IHsKICBfdXBsb2FkRmlsZXMsCiAgX3VwbG9hZEZpbGVzQ29udGludWUsCn07Cn0pKHNlbGYpOwo=",
              "ok": true,
              "headers": [
                [
                  "content-type",
                  "application/javascript"
                ]
              ],
              "status": 200,
              "status_text": ""
            }
          },
          "base_uri": "https://localhost:8080/",
          "height": 300
        }
      },
      "source": [
        "from google.colab import files\n",
        "files.upload()\n",
        "\n",
        "!mkdir ~/.kaggle\n",
        "!mv kaggle.json ~/.kaggle \n",
        "!chmod 600 ~/.kaggle/kaggle.json\n",
        "!kaggle competitions download -c cat-in-the-dat-ii\n",
        "!kaggle datasets download -d ogrellier/libffm-binaries"
      ],
      "execution_count": 2,
      "outputs": [
        {
          "output_type": "display_data",
          "data": {
            "text/html": [
              "\n",
              "     <input type=\"file\" id=\"files-e34f4746-265e-435f-b71f-1d7fb40a226e\" name=\"files[]\" multiple disabled />\n",
              "     <output id=\"result-e34f4746-265e-435f-b71f-1d7fb40a226e\">\n",
              "      Upload widget is only available when the cell has been executed in the\n",
              "      current browser session. Please rerun this cell to enable.\n",
              "      </output>\n",
              "      <script src=\"/nbextensions/google.colab/files.js\"></script> "
            ],
            "text/plain": [
              "<IPython.core.display.HTML object>"
            ]
          },
          "metadata": {
            "tags": []
          }
        },
        {
          "output_type": "stream",
          "text": [
            "Saving kaggle.json to kaggle.json\n",
            "mkdir: cannot create directory ‘/root/.kaggle’: File exists\n",
            "Warning: Looks like you're using an outdated API Version, please consider updating (server 1.5.6 / client 1.5.4)\n",
            "Downloading test.csv.zip to /content\n",
            " 31% 5.00M/16.1M [00:00<00:00, 32.7MB/s]\n",
            "100% 16.1M/16.1M [00:00<00:00, 63.9MB/s]\n",
            "Downloading sample_submission.csv.zip to /content\n",
            "  0% 0.00/871k [00:00<?, ?B/s]\n",
            "100% 871k/871k [00:00<00:00, 121MB/s]\n",
            "Downloading train.csv.zip to /content\n",
            " 70% 17.0M/24.3M [00:00<00:00, 28.8MB/s]\n",
            "100% 24.3M/24.3M [00:00<00:00, 38.3MB/s]\n",
            "Downloading libffm-binaries.zip to /content\n",
            "  0% 0.00/51.4k [00:00<?, ?B/s]\n",
            "100% 51.4k/51.4k [00:00<00:00, 76.3MB/s]\n"
          ],
          "name": "stdout"
        }
      ]
    },
    {
      "cell_type": "code",
      "metadata": {
        "id": "fnORscu2IpQw",
        "colab_type": "code",
        "outputId": "df1a10ef-5410-4ac0-c5b7-bf32906ca65b",
        "colab": {
          "base_uri": "https://localhost:8080/",
          "height": 163
        }
      },
      "source": [
        "!ls -GFlash --color"
      ],
      "execution_count": 3,
      "outputs": [
        {
          "output_type": "stream",
          "text": [
            "total 42M\n",
            "4.0K drwxr-xr-x 1 root 4.0K Mar 29 09:43 \u001b[0m\u001b[01;34m.\u001b[0m/\n",
            "4.0K drwxr-xr-x 1 root 4.0K Mar 29 09:40 \u001b[01;34m..\u001b[0m/\n",
            "4.0K drwxr-xr-x 1 root 4.0K Mar 25 16:11 \u001b[01;34m.config\u001b[0m/\n",
            " 52K -rw-r--r-- 1 root  52K Mar 29 09:43 libffm-binaries.zip\n",
            "4.0K drwxr-xr-x 1 root 4.0K Mar 18 16:23 \u001b[01;34msample_data\u001b[0m/\n",
            "872K -rw-r--r-- 1 root 872K Mar 29 09:43 sample_submission.csv.zip\n",
            " 17M -rw-r--r-- 1 root  17M Mar 29 09:43 test.csv.zip\n",
            " 25M -rw-r--r-- 1 root  25M Mar 29 09:43 train.csv.zip\n"
          ],
          "name": "stdout"
        }
      ]
    },
    {
      "cell_type": "code",
      "metadata": {
        "id": "dJjI26LwIskA",
        "colab_type": "code",
        "outputId": "f1b88c53-f6e1-4512-c942-cdfa1bbd46ae",
        "colab": {
          "base_uri": "https://localhost:8080/",
          "height": 293
        }
      },
      "source": [
        "import glob \n",
        "zip_files = glob.glob(\"*.zip\")\n",
        "import zipfile\n",
        "for file in zip_files:\n",
        "  with zipfile.ZipFile(file,'r') as zf:\n",
        "    zf.printdir()\n",
        "    print(\" Extracting.. \")\n",
        "    zf.extractall()\n",
        "    print(\"Done.\")"
      ],
      "execution_count": 4,
      "outputs": [
        {
          "output_type": "stream",
          "text": [
            "File Name                                             Modified             Size\n",
            "ffm-predict                                    2020-02-08 11:42:08        59064\n",
            "ffm-train                                      2020-02-08 11:42:08        67440\n",
            " Extracting.. \n",
            "Done.\n",
            "File Name                                             Modified             Size\n",
            "test.csv                                       2019-12-31 22:00:54     56141294\n",
            " Extracting.. \n",
            "Done.\n",
            "File Name                                             Modified             Size\n",
            "sample_submission.csv                          2019-12-31 22:00:54      4400010\n",
            " Extracting.. \n",
            "Done.\n",
            "File Name                                             Modified             Size\n",
            "train.csv                                      2019-12-31 22:00:54     85299544\n",
            " Extracting.. \n",
            "Done.\n"
          ],
          "name": "stdout"
        }
      ]
    },
    {
      "cell_type": "code",
      "metadata": {
        "id": "PN_0HTX5I129",
        "colab_type": "code",
        "outputId": "c95ec4a0-04fa-4432-88cd-a60abc3a4843",
        "colab": {
          "base_uri": "https://localhost:8080/",
          "height": 180
        }
      },
      "source": [
        "!rm -r libffm-binaries.zip\n",
        "!rm -r train.csv.zip\n",
        "!rm -r test.csv.zip\n",
        "!rm -r sample_submission.csv.zip\n",
        "\n",
        "!ls -GFlash --color"
      ],
      "execution_count": 5,
      "outputs": [
        {
          "output_type": "stream",
          "text": [
            "total 140M\n",
            "4.0K drwxr-xr-x 1 root 4.0K Mar 29 09:55 \u001b[0m\u001b[01;34m.\u001b[0m/\n",
            "4.0K drwxr-xr-x 1 root 4.0K Mar 29 09:40 \u001b[01;34m..\u001b[0m/\n",
            "4.0K drwxr-xr-x 1 root 4.0K Mar 25 16:11 \u001b[01;34m.config\u001b[0m/\n",
            " 60K -rw-r--r-- 1 root  58K Mar 29 09:55 ffm-predict\n",
            " 68K -rw-r--r-- 1 root  66K Mar 29 09:55 ffm-train\n",
            "4.0K drwxr-xr-x 1 root 4.0K Mar 18 16:23 \u001b[01;34msample_data\u001b[0m/\n",
            "4.2M -rw-r--r-- 1 root 4.2M Mar 29 09:55 sample_submission.csv\n",
            " 54M -rw-r--r-- 1 root  54M Mar 29 09:55 test.csv\n",
            " 82M -rw-r--r-- 1 root  82M Mar 29 09:55 train.csv\n"
          ],
          "name": "stdout"
        }
      ]
    },
    {
      "cell_type": "code",
      "metadata": {
        "id": "l4diWxi2JQ34",
        "colab_type": "code",
        "outputId": "a4517607-e009-4437-a15c-74e53f9727b2",
        "colab": {
          "base_uri": "https://localhost:8080/",
          "height": 33
        }
      },
      "source": [
        "import numpy as np \n",
        "import pandas as pd \n",
        "import matplotlib.pyplot as plt\n",
        "import seaborn as sns\n",
        "from scipy.stats import rankdata\n",
        "import os\n",
        "import gc\n",
        "gc.enable()\n",
        "gc.collect()"
      ],
      "execution_count": 6,
      "outputs": [
        {
          "output_type": "execute_result",
          "data": {
            "text/plain": [
              "0"
            ]
          },
          "metadata": {
            "tags": []
          },
          "execution_count": 6
        }
      ]
    },
    {
      "cell_type": "code",
      "metadata": {
        "id": "LUZKdzIjJ6qd",
        "colab_type": "code",
        "colab": {}
      },
      "source": [
        "N_SPLITS = 50\n",
        "SEED = 2020"
      ],
      "execution_count": 0,
      "outputs": []
    },
    {
      "cell_type": "code",
      "metadata": {
        "id": "l5_6LPjsKGBe",
        "colab_type": "code",
        "colab": {}
      },
      "source": [
        "train = pd.read_csv('train.csv')\n",
        "test = pd.read_csv('test.csv')\n",
        "test['target'] = 1"
      ],
      "execution_count": 0,
      "outputs": []
    },
    {
      "cell_type": "code",
      "metadata": {
        "id": "ZeiD33b9KRut",
        "colab_type": "code",
        "colab": {}
      },
      "source": [
        "features = [_f for _f in train if _f not in ['id','target']]\n",
        "def factor_encoding(train, test):\n",
        "    assert sorted(train.columns) == sorted(test.columns)\n",
        "    full = pd.concat([train, test], axis=0, sort=False)\n",
        "    for f in full:\n",
        "        full[f], _ = pd.factorize(full[f])\n",
        "        full[f] += 1  \n",
        "    return full.iloc[:train.shape[0]], full.iloc[train.shape[0]:]\n",
        "\n",
        "train_f, test_f = factor_encoding(train[features], test[features])"
      ],
      "execution_count": 0,
      "outputs": []
    },
    {
      "cell_type": "code",
      "metadata": {
        "id": "TKV8FteWKbcm",
        "colab_type": "code",
        "colab": {}
      },
      "source": [
        "class LibFFMEncoder(object):\n",
        "    def __init__(self):\n",
        "        self.encoder = 1\n",
        "        self.encoding = {}\n",
        "\n",
        "    def encode_for_libffm(self, row):\n",
        "        txt = f\"{row[0]}\"\n",
        "        for i, r in enumerate(row[1:]):\n",
        "            try:\n",
        "                txt += f' {i+1}:{self.encoding[(i, r)]}:1'\n",
        "            except KeyError:\n",
        "                self.encoding[(i, r)] = self.encoder\n",
        "                self.encoder += 1\n",
        "                txt += f' {i+1}:{self.encoding[(i, r)]}:1'\n",
        "\n",
        "        return txt"
      ],
      "execution_count": 0,
      "outputs": []
    },
    {
      "cell_type": "code",
      "metadata": {
        "id": "mNy4tBHMhDYv",
        "colab_type": "code",
        "colab": {}
      },
      "source": [
        "from sklearn.model_selection import KFold, StratifiedKFold\n",
        "\n",
        "fold_ids = [\n",
        "            [trn_, val_] for (trn_, val_) in StratifiedKFold(N_SPLITS, True, SEED).split(train, train['target'])\n",
        "]"
      ],
      "execution_count": 0,
      "outputs": []
    },
    {
      "cell_type": "code",
      "metadata": {
        "id": "hoT4ueS9hf0D",
        "colab_type": "code",
        "outputId": "85593e11-7150-4446-cdcb-2486825c8144",
        "colab": {
          "base_uri": "https://localhost:8080/",
          "height": 830
        }
      },
      "source": [
        "for fold_, (trn_, val_) in enumerate(fold_ids):\n",
        "  encoder = LibFFMEncoder()\n",
        "\n",
        "  libffm_format_trn = pd.concat([train['target'].iloc[trn_], train_f.iloc[trn_]], axis=1).apply(\n",
        "      lambda row: encoder.encode_for_libffm(row), raw=True, axis=1\n",
        "  )\n",
        "\n",
        "  libffm_format_val = pd.concat([train['target'].iloc[val_], train_f.iloc[val_]],axis=1).apply(\n",
        "      lambda row: encoder.encode_for_libffm(row), raw=True, axis=1\n",
        "  )  \n",
        "\n",
        "  libffm_format_tst = pd.concat([test['target'], test_f], axis=1).apply(\n",
        "      lambda row: encoder.encode_for_libffm(row), raw=True, axis=1\n",
        "  )\n",
        "\n",
        "  print(train['target'].iloc[trn_].shape, train['target'].iloc[val_].shape, libffm_format_tst.shape)\n",
        "\n",
        "  libffm_format_trn.to_csv(f'libffm_trn_fold_{fold_+1}.txt', index=False, header=False)\n",
        "  libffm_format_val.to_csv(f'libffm_val_fold_{fold_+1}.txt', index=False, header=False)\n",
        "  libffm_format_tst.to_csv(f'libffm_tst_fold_{fold_+1}.txt', index=False, header=False)"
      ],
      "execution_count": 12,
      "outputs": [
        {
          "output_type": "stream",
          "text": [
            "(588000,) (12000,) (400000,)\n",
            "(588000,) (12000,) (400000,)\n",
            "(588000,) (12000,) (400000,)\n",
            "(588000,) (12000,) (400000,)\n",
            "(588000,) (12000,) (400000,)\n",
            "(588000,) (12000,) (400000,)\n",
            "(588000,) (12000,) (400000,)\n",
            "(588000,) (12000,) (400000,)\n",
            "(588000,) (12000,) (400000,)\n",
            "(588000,) (12000,) (400000,)\n",
            "(588000,) (12000,) (400000,)\n",
            "(588000,) (12000,) (400000,)\n",
            "(588000,) (12000,) (400000,)\n",
            "(588000,) (12000,) (400000,)\n",
            "(588000,) (12000,) (400000,)\n",
            "(588000,) (12000,) (400000,)\n",
            "(588000,) (12000,) (400000,)\n",
            "(588000,) (12000,) (400000,)\n",
            "(588000,) (12000,) (400000,)\n",
            "(588000,) (12000,) (400000,)\n",
            "(588000,) (12000,) (400000,)\n",
            "(588000,) (12000,) (400000,)\n",
            "(588000,) (12000,) (400000,)\n",
            "(588000,) (12000,) (400000,)\n",
            "(588000,) (12000,) (400000,)\n",
            "(588000,) (12000,) (400000,)\n",
            "(588000,) (12000,) (400000,)\n",
            "(588000,) (12000,) (400000,)\n",
            "(588000,) (12000,) (400000,)\n",
            "(588000,) (12000,) (400000,)\n",
            "(588000,) (12000,) (400000,)\n",
            "(588000,) (12000,) (400000,)\n",
            "(588000,) (12000,) (400000,)\n",
            "(588000,) (12000,) (400000,)\n",
            "(588000,) (12000,) (400000,)\n",
            "(588000,) (12000,) (400000,)\n",
            "(588000,) (12000,) (400000,)\n",
            "(588000,) (12000,) (400000,)\n",
            "(588000,) (12000,) (400000,)\n",
            "(588000,) (12000,) (400000,)\n",
            "(588000,) (12000,) (400000,)\n",
            "(588000,) (12000,) (400000,)\n",
            "(588000,) (12000,) (400000,)\n",
            "(588000,) (12000,) (400000,)\n",
            "(588000,) (12000,) (400000,)\n",
            "(588000,) (12000,) (400000,)\n",
            "(588000,) (12000,) (400000,)\n",
            "(588000,) (12000,) (400000,)\n",
            "(588000,) (12000,) (400000,)\n",
            "(588000,) (12000,) (400000,)\n"
          ],
          "name": "stdout"
        }
      ]
    },
    {
      "cell_type": "code",
      "metadata": {
        "id": "eKohujtLjVVB",
        "colab_type": "code",
        "colab": {
          "base_uri": "https://localhost:8080/",
          "height": 50
        },
        "outputId": "1b6b7a14-c93f-4e63-9820-a257d8fb43fc"
      },
      "source": [
        "!cp ffm-train .\n",
        "!cp ffm-predict .\n",
        "!chmod u+x ffm-train\n",
        "!chmod u+x ffm-predict"
      ],
      "execution_count": 13,
      "outputs": [
        {
          "output_type": "stream",
          "text": [
            "cp: 'ffm-train' and './ffm-train' are the same file\n",
            "cp: 'ffm-predict' and './ffm-predict' are the same file\n"
          ],
          "name": "stdout"
        }
      ]
    },
    {
      "cell_type": "code",
      "metadata": {
        "id": "wl21D1ytx2bW",
        "colab_type": "code",
        "colab": {
          "base_uri": "https://localhost:8080/",
          "height": 391
        },
        "outputId": "3c939aa1-4cb4-4d11-b206-dcaf893363fd"
      },
      "source": [
        "from sklearn.metrics import log_loss, roc_auc_score\n",
        "\n",
        "!./ffm-train -p libffm_val_fold_1.txt -r 0.05 -l 0.0002 -k 50 --auto-stop libffm_trn_fold_1.txt libffm_fold_1_model\n",
        "!./ffm-predict libffm_val_fold_1.txt libffm_fold_1_model val_preds_fold_1.txt\n",
        "!./ffm-predict libffm_tst_fold_1.txt libffm_fold_1_model tst_preds_fold_1.txt\n",
        "os.remove('libffm_val_fold_1.txt')\n",
        "os.remove('libffm_trn_fold_1.txt')\n",
        "os.remove('libffm_fold_1_model')\n",
        "os.remove('libffm_tst_fold_1.txt')\n",
        "\n",
        "(\n",
        "    log_loss(train['target'].iloc[fold_ids[0][1]], pd.read_csv('val_preds_fold_1.txt', header=None).values[:,0]),\n",
        "    roc_auc_score(train['target'].iloc[fold_ids[0][1]], pd.read_csv('val_preds_fold_1.txt', header=None).values[:,0])\n",
        ")"
      ],
      "execution_count": 14,
      "outputs": [
        {
          "output_type": "stream",
          "text": [
            "First check if the text file has already been converted to binary format (0.0 seconds)\n",
            "Binary file NOT found. Convert text file to binary file (3.4 seconds)\n",
            "First check if the text file has already been converted to binary format (0.0 seconds)\n",
            "Binary file NOT found. Convert text file to binary file (0.1 seconds)\n",
            "iter   tr_logloss   va_logloss      tr_time\n",
            "   1      0.42991      0.41684         10.6\n",
            "   2      0.40891      0.40935         20.7\n",
            "   3      0.40415      0.40730         31.2\n",
            "   4      0.40231      0.40637         41.4\n",
            "   5      0.40115      0.40582         51.6\n",
            "   6      0.40020      0.40510         62.2\n",
            "   7      0.39919      0.40454         72.8\n",
            "   8      0.39818      0.40412         83.3\n",
            "   9      0.39710      0.40355         93.5\n",
            "  10      0.39599      0.40306        103.6\n",
            "  11      0.39491      0.40253        113.7\n",
            "  12      0.39386      0.40200        124.9\n",
            "  13      0.39277      0.40191        135.2\n",
            "  14      0.39179      0.40151        145.7\n",
            "  15      0.39081      0.40124        156.5\n",
            "logloss = 0.40124\n",
            "logloss = 1.96865\n"
          ],
          "name": "stdout"
        },
        {
          "output_type": "execute_result",
          "data": {
            "text/plain": [
              "(0.4012372577928063, 0.7826868891014596)"
            ]
          },
          "metadata": {
            "tags": []
          },
          "execution_count": 14
        }
      ]
    },
    {
      "cell_type": "code",
      "metadata": {
        "id": "Yry_nhmnx9UU",
        "colab_type": "code",
        "colab": {
          "base_uri": "https://localhost:8080/",
          "height": 391
        },
        "outputId": "e86d69a1-335a-4f77-f7ea-8ca96d4e22d7"
      },
      "source": [
        "from sklearn.metrics import log_loss, roc_auc_score\n",
        "\n",
        "!./ffm-train -p libffm_val_fold_2.txt -r 0.05 -l 0.0002 -k 50 --auto-stop libffm_trn_fold_2.txt libffm_fold_2_model\n",
        "!./ffm-predict libffm_val_fold_2.txt libffm_fold_2_model val_preds_fold_2.txt\n",
        "!./ffm-predict libffm_tst_fold_2.txt libffm_fold_2_model tst_preds_fold_2.txt\n",
        "os.remove('libffm_val_fold_2.txt')\n",
        "os.remove('libffm_trn_fold_2.txt')\n",
        "os.remove('libffm_fold_2_model')\n",
        "os.remove('libffm_tst_fold_2.txt')\n",
        "\n",
        "(\n",
        "    log_loss(train['target'].iloc[fold_ids[1][1]], pd.read_csv('val_preds_fold_2.txt', header=None).values[:,0]),\n",
        "    roc_auc_score(train['target'].iloc[fold_ids[1][1]], pd.read_csv('val_preds_fold_2.txt', header=None).values[:,0])\n",
        ")"
      ],
      "execution_count": 15,
      "outputs": [
        {
          "output_type": "stream",
          "text": [
            "First check if the text file has already been converted to binary format (0.0 seconds)\n",
            "Binary file NOT found. Convert text file to binary file (3.4 seconds)\n",
            "First check if the text file has already been converted to binary format (0.0 seconds)\n",
            "Binary file NOT found. Convert text file to binary file (0.1 seconds)\n",
            "iter   tr_logloss   va_logloss      tr_time\n",
            "   1      0.43007      0.41139         10.9\n",
            "   2      0.40904      0.40219         21.8\n",
            "   3      0.40433      0.40002         32.1\n",
            "   4      0.40247      0.39865         42.7\n",
            "   5      0.40138      0.39802         53.1\n",
            "   6      0.40038      0.39728         64.2\n",
            "   7      0.39941      0.39690         74.7\n",
            "   8      0.39841      0.39623         84.8\n",
            "   9      0.39732      0.39551         95.0\n",
            "  10      0.39623      0.39488        106.0\n",
            "  11      0.39516      0.39426        117.4\n",
            "  12      0.39403      0.39346        128.0\n",
            "  13      0.39305      0.39303        138.7\n",
            "  14      0.39200      0.39271        149.3\n",
            "  15      0.39103      0.39236        159.7\n",
            "logloss = 0.39236\n",
            "logloss = 1.98411\n"
          ],
          "name": "stdout"
        },
        {
          "output_type": "execute_result",
          "data": {
            "text/plain": [
              "(0.3923570561972688, 0.7985306756357782)"
            ]
          },
          "metadata": {
            "tags": []
          },
          "execution_count": 15
        }
      ]
    },
    {
      "cell_type": "code",
      "metadata": {
        "id": "BeTS68mZypAP",
        "colab_type": "code",
        "colab": {
          "base_uri": "https://localhost:8080/",
          "height": 391
        },
        "outputId": "8cf5401e-1914-495a-f231-d57546856cca"
      },
      "source": [
        "!./ffm-train -p libffm_val_fold_3.txt -r 0.05 -l 0.0002 -k 50 --auto-stop libffm_trn_fold_3.txt libffm_fold_3_model\n",
        "!./ffm-predict libffm_val_fold_3.txt libffm_fold_3_model val_preds_fold_3.txt\n",
        "!./ffm-predict libffm_tst_fold_3.txt libffm_fold_3_model tst_preds_fold_3.txt\n",
        "os.remove('libffm_val_fold_3.txt')\n",
        "os.remove('libffm_trn_fold_3.txt')\n",
        "os.remove('libffm_fold_3_model')\n",
        "os.remove('libffm_tst_fold_3.txt')\n",
        "\n",
        "(\n",
        "    log_loss(train['target'].iloc[fold_ids[2][1]], pd.read_csv('val_preds_fold_3.txt', header=None).values[:,0]),\n",
        "    roc_auc_score(train['target'].iloc[fold_ids[2][1]], pd.read_csv('val_preds_fold_3.txt', header=None).values[:,0])\n",
        ")"
      ],
      "execution_count": 17,
      "outputs": [
        {
          "output_type": "stream",
          "text": [
            "First check if the text file has already been converted to binary format (0.0 seconds)\n",
            "Binary file NOT found. Convert text file to binary file (2.6 seconds)\n",
            "First check if the text file has already been converted to binary format (0.0 seconds)\n",
            "Binary file NOT found. Convert text file to binary file (0.1 seconds)\n",
            "iter   tr_logloss   va_logloss      tr_time\n",
            "   1      0.43010      0.41121         10.9\n",
            "   2      0.40906      0.40383         21.1\n",
            "   3      0.40429      0.40237         32.0\n",
            "   4      0.40248      0.40117         42.3\n",
            "   5      0.40130      0.40071         52.8\n",
            "   6      0.40035      0.40009         64.8\n",
            "   7      0.39934      0.39961         75.4\n",
            "   8      0.39831      0.39935         85.8\n",
            "   9      0.39725      0.39869         96.7\n",
            "  10      0.39614      0.39815        107.7\n",
            "  11      0.39503      0.39804        119.4\n",
            "  12      0.39395      0.39741        130.3\n",
            "  13      0.39294      0.39699        140.8\n",
            "  14      0.39189      0.39681        151.1\n",
            "  15      0.39099      0.39679        161.7\n",
            "logloss = 0.39679\n",
            "logloss = 1.96903\n"
          ],
          "name": "stdout"
        },
        {
          "output_type": "execute_result",
          "data": {
            "text/plain": [
              "(0.3967862819192884, 0.7907510967484901)"
            ]
          },
          "metadata": {
            "tags": []
          },
          "execution_count": 17
        }
      ]
    },
    {
      "cell_type": "code",
      "metadata": {
        "id": "CvyBfru2zAp6",
        "colab_type": "code",
        "colab": {
          "base_uri": "https://localhost:8080/",
          "height": 407
        },
        "outputId": "3a003339-abd5-4e0b-df67-2f328ea8a571"
      },
      "source": [
        "!./ffm-train -p libffm_val_fold_4.txt -r 0.05 -l 0.0002 -k 50 --auto-stop libffm_trn_fold_4.txt libffm_fold_4_model\n",
        "!./ffm-predict libffm_val_fold_4.txt libffm_fold_4_model val_preds_fold_4.txt\n",
        "!./ffm-predict libffm_tst_fold_4.txt libffm_fold_4_model tst_preds_fold_4.txt\n",
        "os.remove('libffm_val_fold_4.txt')\n",
        "os.remove('libffm_trn_fold_4.txt')\n",
        "os.remove('libffm_fold_4_model')\n",
        "os.remove('libffm_tst_fold_4.txt')\n",
        "\n",
        "(\n",
        "    log_loss(train['target'].iloc[fold_ids[3][1]], pd.read_csv('val_preds_fold_4.txt', header=None).values[:,0]),\n",
        "    roc_auc_score(train['target'].iloc[fold_ids[3][1]], pd.read_csv('val_preds_fold_4.txt', header=None).values[:,0])\n",
        ")"
      ],
      "execution_count": 18,
      "outputs": [
        {
          "output_type": "stream",
          "text": [
            "First check if the text file has already been converted to binary format (0.0 seconds)\n",
            "Binary file NOT found. Convert text file to binary file (3.3 seconds)\n",
            "First check if the text file has already been converted to binary format (0.0 seconds)\n",
            "Binary file NOT found. Convert text file to binary file (0.1 seconds)\n",
            "iter   tr_logloss   va_logloss      tr_time\n",
            "   1      0.43002      0.41699         11.3\n",
            "   2      0.40899      0.40857         22.8\n",
            "   3      0.40417      0.40657         34.1\n",
            "   4      0.40235      0.40553         45.4\n",
            "   5      0.40119      0.40495         56.6\n",
            "   6      0.40020      0.40445         67.2\n",
            "   7      0.39924      0.40395         77.8\n",
            "   8      0.39819      0.40375         90.0\n",
            "   9      0.39711      0.40298        101.8\n",
            "  10      0.39601      0.40258        112.9\n",
            "  11      0.39491      0.40229        124.2\n",
            "  12      0.39385      0.40182        135.6\n",
            "  13      0.39275      0.40162        146.5\n",
            "  14      0.39180      0.40123        157.3\n",
            "  15      0.39079      0.40135\n",
            "Auto-stop. Use model at 14th iteration.\n",
            "logloss = 0.40123\n",
            "logloss = 1.98060\n"
          ],
          "name": "stdout"
        },
        {
          "output_type": "execute_result",
          "data": {
            "text/plain": [
              "(0.4012265383501685, 0.7823430568293466)"
            ]
          },
          "metadata": {
            "tags": []
          },
          "execution_count": 18
        }
      ]
    },
    {
      "cell_type": "code",
      "metadata": {
        "id": "3yWQCjFQzmkY",
        "colab_type": "code",
        "colab": {
          "base_uri": "https://localhost:8080/",
          "height": 472
        },
        "outputId": "bc4980b2-7507-4705-890d-1611b6d3a145"
      },
      "source": [
        "!./ffm-train -p libffm_val_fold_5.txt -r 0.05 -l 0.0002 -t 30 -k 50 --auto-stop libffm_trn_fold_5.txt libffm_fold_5_model\n",
        "!./ffm-predict libffm_val_fold_5.txt libffm_fold_5_model val_preds_fold_5.txt\n",
        "!./ffm-predict libffm_tst_fold_5.txt libffm_fold_5_model tst_preds_fold_5.txt\n",
        "os.remove('libffm_val_fold_5.txt')\n",
        "os.remove('libffm_trn_fold_5.txt')\n",
        "os.remove('libffm_fold_5_model')\n",
        "os.remove('libffm_tst_fold_5.txt')\n",
        "\n",
        "(\n",
        "    log_loss(train['target'].iloc[fold_ids[4][1]], pd.read_csv('val_preds_fold_5.txt', header=None).values[:,0]),\n",
        "    roc_auc_score(train['target'].iloc[fold_ids[4][1]], pd.read_csv('val_preds_fold_5.txt', header=None).values[:,0])\n",
        ")"
      ],
      "execution_count": 19,
      "outputs": [
        {
          "output_type": "stream",
          "text": [
            "First check if the text file has already been converted to binary format (0.0 seconds)\n",
            "Binary file NOT found. Convert text file to binary file (3.3 seconds)\n",
            "First check if the text file has already been converted to binary format (0.0 seconds)\n",
            "Binary file NOT found. Convert text file to binary file (0.1 seconds)\n",
            "iter   tr_logloss   va_logloss      tr_time\n",
            "   1      0.43009      0.41105         10.3\n",
            "   2      0.40918      0.40283         21.3\n",
            "   3      0.40431      0.40043         32.1\n",
            "   4      0.40246      0.39980         43.0\n",
            "   5      0.40133      0.39897         54.1\n",
            "   6      0.40034      0.39842         64.4\n",
            "   7      0.39936      0.39818         75.5\n",
            "   8      0.39835      0.39729         85.9\n",
            "   9      0.39725      0.39691         96.0\n",
            "  10      0.39617      0.39622        106.4\n",
            "  11      0.39509      0.39581        117.0\n",
            "  12      0.39397      0.39535        128.0\n",
            "  13      0.39296      0.39515        138.4\n",
            "  14      0.39194      0.39497        149.2\n",
            "  15      0.39100      0.39430        160.2\n",
            "  16      0.39004      0.39404        171.1\n",
            "  17      0.38916      0.39396        183.5\n",
            "  18      0.38828      0.39376        193.8\n",
            "  19      0.38743      0.39379\n",
            "Auto-stop. Use model at 18th iteration.\n",
            "logloss = 0.39376\n",
            "logloss = 2.01052\n"
          ],
          "name": "stdout"
        },
        {
          "output_type": "execute_result",
          "data": {
            "text/plain": [
              "(0.39375701323356394, 0.7961440483078751)"
            ]
          },
          "metadata": {
            "tags": []
          },
          "execution_count": 19
        }
      ]
    },
    {
      "cell_type": "code",
      "metadata": {
        "id": "lAQc-I1r03PT",
        "colab_type": "code",
        "colab": {
          "base_uri": "https://localhost:8080/",
          "height": 407
        },
        "outputId": "c202514c-a0b2-42bb-b1d5-3a05c760cf49"
      },
      "source": [
        "!./ffm-train -p libffm_val_fold_6.txt -r 0.05 -l 0.0002 -t 30 -k 50 --auto-stop libffm_trn_fold_6.txt libffm_fold_6_model\n",
        "!./ffm-predict libffm_val_fold_6.txt libffm_fold_6_model val_preds_fold_6.txt\n",
        "!./ffm-predict libffm_tst_fold_6.txt libffm_fold_6_model tst_preds_fold_6.txt\n",
        "os.remove('libffm_val_fold_6.txt')\n",
        "os.remove('libffm_trn_fold_6.txt')\n",
        "os.remove('libffm_fold_6_model')\n",
        "os.remove('libffm_tst_fold_6.txt')\n",
        "\n",
        "(\n",
        "    log_loss(train['target'].iloc[fold_ids[5][1]], pd.read_csv('val_preds_fold_6.txt', header=None).values[:,0]),\n",
        "    roc_auc_score(train['target'].iloc[fold_ids[5][1]], pd.read_csv('val_preds_fold_6.txt', header=None).values[:,0])\n",
        ")"
      ],
      "execution_count": 20,
      "outputs": [
        {
          "output_type": "stream",
          "text": [
            "First check if the text file has already been converted to binary format (0.0 seconds)\n",
            "Binary file NOT found. Convert text file to binary file (3.4 seconds)\n",
            "First check if the text file has already been converted to binary format (0.0 seconds)\n",
            "Binary file NOT found. Convert text file to binary file (0.1 seconds)\n",
            "iter   tr_logloss   va_logloss      tr_time\n",
            "   1      0.43000      0.41495         11.2\n",
            "   2      0.40900      0.40725         21.5\n",
            "   3      0.40418      0.40539         32.4\n",
            "   4      0.40238      0.40448         43.6\n",
            "   5      0.40122      0.40432         54.5\n",
            "   6      0.40024      0.40372         65.7\n",
            "   7      0.39926      0.40324         76.3\n",
            "   8      0.39825      0.40245         87.0\n",
            "   9      0.39712      0.40196         98.2\n",
            "  10      0.39608      0.40139        109.6\n",
            "  11      0.39496      0.40115        120.3\n",
            "  12      0.39390      0.40055        131.8\n",
            "  13      0.39280      0.40008        143.2\n",
            "  14      0.39187      0.39969        153.9\n",
            "  15      0.39089      0.39970\n",
            "Auto-stop. Use model at 14th iteration.\n",
            "logloss = 0.39969\n",
            "logloss = 2.02241\n"
          ],
          "name": "stdout"
        },
        {
          "output_type": "execute_result",
          "data": {
            "text/plain": [
              "(0.39969170508241175, 0.78429670426782)"
            ]
          },
          "metadata": {
            "tags": []
          },
          "execution_count": 20
        }
      ]
    },
    {
      "cell_type": "code",
      "metadata": {
        "id": "44UM4jvI1LHX",
        "colab_type": "code",
        "colab": {
          "base_uri": "https://localhost:8080/",
          "height": 505
        },
        "outputId": "b18ab04d-4185-481c-ad80-588984546155"
      },
      "source": [
        "!./ffm-train -p libffm_val_fold_7.txt -r 0.05 -l 0.0002 -t 30 -k 50 --auto-stop libffm_trn_fold_7.txt libffm_fold_7_model\n",
        "!./ffm-predict libffm_val_fold_7.txt libffm_fold_7_model val_preds_fold_7.txt\n",
        "!./ffm-predict libffm_tst_fold_7.txt libffm_fold_7_model tst_preds_fold_7.txt\n",
        "os.remove('libffm_val_fold_7.txt')\n",
        "os.remove('libffm_trn_fold_7.txt')\n",
        "os.remove('libffm_fold_7_model')\n",
        "os.remove('libffm_tst_fold_7.txt')\n",
        "\n",
        "(\n",
        "    log_loss(train['target'].iloc[fold_ids[6][1]], pd.read_csv('val_preds_fold_7.txt', header=None).values[:,0]),\n",
        "    roc_auc_score(train['target'].iloc[fold_ids[6][1]], pd.read_csv('val_preds_fold_7.txt', header=None).values[:,0])\n",
        ")"
      ],
      "execution_count": 21,
      "outputs": [
        {
          "output_type": "stream",
          "text": [
            "First check if the text file has already been converted to binary format (0.0 seconds)\n",
            "Binary file NOT found. Convert text file to binary file (3.3 seconds)\n",
            "First check if the text file has already been converted to binary format (0.0 seconds)\n",
            "Binary file NOT found. Convert text file to binary file (0.1 seconds)\n",
            "iter   tr_logloss   va_logloss      tr_time\n",
            "   1      0.43001      0.41208         10.8\n",
            "   2      0.40899      0.40394         21.8\n",
            "   3      0.40425      0.40212         33.3\n",
            "   4      0.40244      0.40111         44.1\n",
            "   5      0.40130      0.40054         54.8\n",
            "   6      0.40034      0.39981         65.4\n",
            "   7      0.39934      0.39917         76.2\n",
            "   8      0.39833      0.39869         86.7\n",
            "   9      0.39721      0.39860         97.5\n",
            "  10      0.39617      0.39754        107.8\n",
            "  11      0.39505      0.39700        119.9\n",
            "  12      0.39395      0.39691        131.0\n",
            "  13      0.39294      0.39638        141.4\n",
            "  14      0.39189      0.39609        152.0\n",
            "  15      0.39096      0.39606        163.0\n",
            "  16      0.39000      0.39586        173.9\n",
            "  17      0.38915      0.39550        184.6\n",
            "  18      0.38824      0.39533        195.9\n",
            "  19      0.38739      0.39526        207.1\n",
            "  20      0.38652      0.39506        217.6\n",
            "  21      0.38566      0.39521\n",
            "Auto-stop. Use model at 20th iteration.\n",
            "logloss = 0.39506\n",
            "logloss = 2.01811\n"
          ],
          "name": "stdout"
        },
        {
          "output_type": "execute_result",
          "data": {
            "text/plain": [
              "(0.3950594780219502, 0.7924242692588523)"
            ]
          },
          "metadata": {
            "tags": []
          },
          "execution_count": 21
        }
      ]
    },
    {
      "cell_type": "code",
      "metadata": {
        "id": "OtYqoEQj1dNv",
        "colab_type": "code",
        "colab": {
          "base_uri": "https://localhost:8080/",
          "height": 423
        },
        "outputId": "2f34c19e-d845-498f-e52e-5e049267e2f7"
      },
      "source": [
        "!./ffm-train -p libffm_val_fold_8.txt -r 0.05 -l 0.0002 -t 30 -k 50 --auto-stop libffm_trn_fold_8.txt libffm_fold_8_model\n",
        "!./ffm-predict libffm_val_fold_8.txt libffm_fold_8_model val_preds_fold_8.txt\n",
        "!./ffm-predict libffm_tst_fold_8.txt libffm_fold_8_model tst_preds_fold_8.txt\n",
        "os.remove('libffm_val_fold_8.txt')\n",
        "os.remove('libffm_trn_fold_8.txt')\n",
        "os.remove('libffm_fold_8_model')\n",
        "os.remove('libffm_tst_fold_8.txt')\n",
        "\n",
        "(\n",
        "    log_loss(train['target'].iloc[fold_ids[7][1]], pd.read_csv('val_preds_fold_8.txt', header=None).values[:,0]),\n",
        "    roc_auc_score(train['target'].iloc[fold_ids[7][1]], pd.read_csv('val_preds_fold_8.txt', header=None).values[:,0])\n",
        ")"
      ],
      "execution_count": 22,
      "outputs": [
        {
          "output_type": "stream",
          "text": [
            "First check if the text file has already been converted to binary format (0.0 seconds)\n",
            "Binary file NOT found. Convert text file to binary file (3.3 seconds)\n",
            "First check if the text file has already been converted to binary format (0.0 seconds)\n",
            "Binary file NOT found. Convert text file to binary file (0.1 seconds)\n",
            "iter   tr_logloss   va_logloss      tr_time\n",
            "   1      0.43003      0.41474         11.7\n",
            "   2      0.40899      0.40611         22.6\n",
            "   3      0.40425      0.40383         33.4\n",
            "   4      0.40242      0.40284         44.2\n",
            "   5      0.40129      0.40229         55.3\n",
            "   6      0.40027      0.40161         66.1\n",
            "   7      0.39932      0.40096         76.9\n",
            "   8      0.39831      0.40032         87.9\n",
            "   9      0.39721      0.40002         98.2\n",
            "  10      0.39611      0.39946        108.8\n",
            "  11      0.39504      0.39896        119.1\n",
            "  12      0.39395      0.39865        129.9\n",
            "  13      0.39285      0.39830        140.5\n",
            "  14      0.39191      0.39798        151.6\n",
            "  15      0.39097      0.39763        162.5\n",
            "  16      0.38997      0.39764\n",
            "Auto-stop. Use model at 15th iteration.\n",
            "logloss = 0.39763\n",
            "logloss = 1.98301\n"
          ],
          "name": "stdout"
        },
        {
          "output_type": "execute_result",
          "data": {
            "text/plain": [
              "(0.39762899664826923, 0.7883417831093703)"
            ]
          },
          "metadata": {
            "tags": []
          },
          "execution_count": 22
        }
      ]
    },
    {
      "cell_type": "code",
      "metadata": {
        "id": "IBxuKTdK1smh",
        "colab_type": "code",
        "colab": {
          "base_uri": "https://localhost:8080/",
          "height": 472
        },
        "outputId": "141525ad-6bc2-460d-b236-cde4001ee026"
      },
      "source": [
        "!./ffm-train -p libffm_val_fold_9.txt -r 0.05 -l 0.0002 -t 30 -k 50 --auto-stop libffm_trn_fold_9.txt libffm_fold_9_model\n",
        "!./ffm-predict libffm_val_fold_9.txt libffm_fold_9_model val_preds_fold_9.txt\n",
        "!./ffm-predict libffm_tst_fold_9.txt libffm_fold_9_model tst_preds_fold_9.txt\n",
        "os.remove('libffm_val_fold_9.txt')\n",
        "os.remove('libffm_trn_fold_9.txt')\n",
        "os.remove('libffm_fold_9_model')\n",
        "os.remove('libffm_tst_fold_9.txt')\n",
        "\n",
        "(\n",
        "    log_loss(train['target'].iloc[fold_ids[8][1]], pd.read_csv('val_preds_fold_9.txt', header=None).values[:,0]),\n",
        "    roc_auc_score(train['target'].iloc[fold_ids[8][1]], pd.read_csv('val_preds_fold_9.txt', header=None).values[:,0])\n",
        ")"
      ],
      "execution_count": 23,
      "outputs": [
        {
          "output_type": "stream",
          "text": [
            "First check if the text file has already been converted to binary format (0.0 seconds)\n",
            "Binary file NOT found. Convert text file to binary file (3.3 seconds)\n",
            "First check if the text file has already been converted to binary format (0.0 seconds)\n",
            "Binary file NOT found. Convert text file to binary file (0.1 seconds)\n",
            "iter   tr_logloss   va_logloss      tr_time\n",
            "   1      0.43003      0.41153         11.9\n",
            "   2      0.40910      0.40434         22.3\n",
            "   3      0.40428      0.40234         33.3\n",
            "   4      0.40247      0.40136         44.2\n",
            "   5      0.40128      0.40088         54.6\n",
            "   6      0.40029      0.40024         65.6\n",
            "   7      0.39931      0.39980         76.2\n",
            "   8      0.39826      0.39948         88.7\n",
            "   9      0.39718      0.39907         99.3\n",
            "  10      0.39608      0.39875        110.1\n",
            "  11      0.39498      0.39825        121.1\n",
            "  12      0.39388      0.39807        132.2\n",
            "  13      0.39285      0.39777        143.3\n",
            "  14      0.39187      0.39744        155.0\n",
            "  15      0.39085      0.39734        165.7\n",
            "  16      0.39000      0.39727        176.4\n",
            "  17      0.38911      0.39698        187.8\n",
            "  18      0.38817      0.39689        199.0\n",
            "  19      0.38735      0.39700\n",
            "Auto-stop. Use model at 18th iteration.\n",
            "logloss = 0.39689\n",
            "logloss = 2.00696\n"
          ],
          "name": "stdout"
        },
        {
          "output_type": "execute_result",
          "data": {
            "text/plain": [
              "(0.3968890469540639, 0.7889493608668161)"
            ]
          },
          "metadata": {
            "tags": []
          },
          "execution_count": 23
        }
      ]
    },
    {
      "cell_type": "code",
      "metadata": {
        "id": "Kf_ktlbp2olA",
        "colab_type": "code",
        "colab": {
          "base_uri": "https://localhost:8080/",
          "height": 488
        },
        "outputId": "130e4924-afcb-4257-f79c-af4505e73dac"
      },
      "source": [
        "!./ffm-train -p libffm_val_fold_10.txt -r 0.05 -l 0.0002 -t 30 -k 50 --auto-stop libffm_trn_fold_10.txt libffm_fold_10_model\n",
        "!./ffm-predict libffm_val_fold_10.txt libffm_fold_10_model val_preds_fold_10.txt\n",
        "!./ffm-predict libffm_tst_fold_10.txt libffm_fold_10_model tst_preds_fold_10.txt\n",
        "os.remove('libffm_val_fold_10.txt')\n",
        "os.remove('libffm_trn_fold_10.txt')\n",
        "os.remove('libffm_fold_10_model')\n",
        "os.remove('libffm_tst_fold_10.txt')\n",
        "\n",
        "(\n",
        "    log_loss(train['target'].iloc[fold_ids[9][1]], pd.read_csv('val_preds_fold_10.txt', header=None).values[:,0]),\n",
        "    roc_auc_score(train['target'].iloc[fold_ids[9][1]], pd.read_csv('val_preds_fold_10.txt', header=None).values[:,0])\n",
        ")"
      ],
      "execution_count": 25,
      "outputs": [
        {
          "output_type": "stream",
          "text": [
            "First check if the text file has already been converted to binary format (0.0 seconds)\n",
            "Binary file NOT found. Convert text file to binary file (2.9 seconds)\n",
            "First check if the text file has already been converted to binary format (0.0 seconds)\n",
            "Binary file NOT found. Convert text file to binary file (0.1 seconds)\n",
            "iter   tr_logloss   va_logloss      tr_time\n",
            "   1      0.42996      0.41562         11.0\n",
            "   2      0.40895      0.40707         21.9\n",
            "   3      0.40422      0.40473         33.1\n",
            "   4      0.40241      0.40365         43.5\n",
            "   5      0.40132      0.40281         54.4\n",
            "   6      0.40033      0.40225         65.3\n",
            "   7      0.39934      0.40165         76.7\n",
            "   8      0.39835      0.40124         87.2\n",
            "   9      0.39732      0.40015         98.4\n",
            "  10      0.39619      0.39988        110.1\n",
            "  11      0.39513      0.39924        121.6\n",
            "  12      0.39400      0.39855        132.6\n",
            "  13      0.39299      0.39818        143.1\n",
            "  14      0.39197      0.39784        153.9\n",
            "  15      0.39098      0.39771        164.4\n",
            "  16      0.39009      0.39721        175.0\n",
            "  17      0.38915      0.39711        185.8\n",
            "  18      0.38825      0.39706        196.1\n",
            "  19      0.38741      0.39686        207.1\n",
            "  20      0.38648      0.39688\n",
            "Auto-stop. Use model at 19th iteration.\n",
            "logloss = 0.39686\n",
            "logloss = 1.99061\n"
          ],
          "name": "stdout"
        },
        {
          "output_type": "execute_result",
          "data": {
            "text/plain": [
              "(0.3968561841274753, 0.7902005314713456)"
            ]
          },
          "metadata": {
            "tags": []
          },
          "execution_count": 25
        }
      ]
    },
    {
      "cell_type": "code",
      "metadata": {
        "id": "6rgybA1k29wo",
        "colab_type": "code",
        "colab": {
          "base_uri": "https://localhost:8080/",
          "height": 488
        },
        "outputId": "3c5de53e-4428-44a0-aa51-a4f597724245"
      },
      "source": [
        "!./ffm-train -p libffm_val_fold_11.txt -r 0.05 -l 0.0002 -t 30 -k 50 --auto-stop libffm_trn_fold_11.txt libffm_fold_11_model\n",
        "!./ffm-predict libffm_val_fold_11.txt libffm_fold_11_model val_preds_fold_11.txt\n",
        "!./ffm-predict libffm_tst_fold_11.txt libffm_fold_11_model tst_preds_fold_11.txt\n",
        "os.remove('libffm_val_fold_11.txt')\n",
        "os.remove('libffm_trn_fold_11.txt')\n",
        "os.remove('libffm_fold_11_model')\n",
        "os.remove('libffm_tst_fold_11.txt')\n",
        "\n",
        "(\n",
        "    log_loss(train['target'].iloc[fold_ids[10][1]], pd.read_csv('val_preds_fold_11.txt', header=None).values[:,0]),\n",
        "    roc_auc_score(train['target'].iloc[fold_ids[10][1]], pd.read_csv('val_preds_fold_11.txt', header=None).values[:,0])\n",
        ")"
      ],
      "execution_count": 26,
      "outputs": [
        {
          "output_type": "stream",
          "text": [
            "First check if the text file has already been converted to binary format (0.0 seconds)\n",
            "Binary file NOT found. Convert text file to binary file (3.4 seconds)\n",
            "First check if the text file has already been converted to binary format (0.0 seconds)\n",
            "Binary file NOT found. Convert text file to binary file (0.1 seconds)\n",
            "iter   tr_logloss   va_logloss      tr_time\n",
            "   1      0.42996      0.41639         11.8\n",
            "   2      0.40906      0.40683         23.0\n",
            "   3      0.40424      0.40443         34.1\n",
            "   4      0.40238      0.40323         45.8\n",
            "   5      0.40131      0.40254         57.4\n",
            "   6      0.40027      0.40210         68.1\n",
            "   7      0.39931      0.40146         78.8\n",
            "   8      0.39829      0.40083         90.2\n",
            "   9      0.39720      0.40030        101.3\n",
            "  10      0.39614      0.39973        111.8\n",
            "  11      0.39502      0.39925        123.3\n",
            "  12      0.39392      0.39870        133.9\n",
            "  13      0.39288      0.39844        145.2\n",
            "  14      0.39191      0.39808        156.0\n",
            "  15      0.39089      0.39794        168.4\n",
            "  16      0.38997      0.39772        178.9\n",
            "  17      0.38912      0.39761        189.9\n",
            "  18      0.38818      0.39757        200.8\n",
            "  19      0.38736      0.39731        211.9\n",
            "  20      0.38646      0.39732\n",
            "Auto-stop. Use model at 19th iteration.\n",
            "logloss = 0.39731\n",
            "logloss = 1.99546\n"
          ],
          "name": "stdout"
        },
        {
          "output_type": "execute_result",
          "data": {
            "text/plain": [
              "(0.39731232974421177, 0.7880609658324981)"
            ]
          },
          "metadata": {
            "tags": []
          },
          "execution_count": 26
        }
      ]
    },
    {
      "cell_type": "code",
      "metadata": {
        "id": "he5IxuK15_I2",
        "colab_type": "code",
        "colab": {
          "base_uri": "https://localhost:8080/",
          "height": 245
        },
        "outputId": "61a5745a-cba7-489a-c2a2-c92fac4f661b"
      },
      "source": [
        "!./ffm-train -p libffm_val_fold_12.txt -r 0.05 -l 0.0002 -t 30 -k 50 --auto-stop libffm_trn_fold_12.txt libffm_fold_12_model\n",
        "!./ffm-predict libffm_val_fold_12.txt libffm_fold_12_model val_preds_fold_12.txt\n",
        "!./ffm-predict libffm_tst_fold_12.txt libffm_fold_12_model tst_preds_fold_12.txt\n",
        "os.remove('libffm_val_fold_12.txt')\n",
        "os.remove('libffm_trn_fold_12.txt')\n",
        "os.remove('libffm_fold_12_model')\n",
        "os.remove('libffm_tst_fold_12.txt')\n",
        "\n",
        "(\n",
        "    log_loss(train['target'].iloc[fold_ids[11][1]], pd.read_csv('val_preds_fold_12.txt', header=None).values[:,0]),\n",
        "    roc_auc_score(train['target'].iloc[fold_ids[11][1]], pd.read_csv('val_preds_fold_12.txt', header=None).values[:,0])\n",
        ")"
      ],
      "execution_count": 27,
      "outputs": [
        {
          "output_type": "stream",
          "text": [
            "First check if the text file has already been converted to binary format (0.0 seconds)\n",
            "Binary file NOT found. Convert text file to binary file (3.3 seconds)\n",
            "First check if the text file has already been converted to binary format (0.0 seconds)\n",
            "Binary file NOT found. Convert text file to binary file (0.1 seconds)\n",
            "iter   tr_logloss   va_logloss      tr_time\n",
            "   1      0.43003      0.41442         11.4\n",
            "   2      0.40892      0.40627         22.0\n",
            "   3      0.40421      0.40414         33.0\n",
            "   4      0.40237      0.40330         44.4\n",
            "   5      0.40119      0.40335\n",
            "Auto-stop. Use model at 4th iteration.\n",
            "logloss = 0.40330\n",
            "logloss = 1.97065\n"
          ],
          "name": "stdout"
        },
        {
          "output_type": "execute_result",
          "data": {
            "text/plain": [
              "(0.403302785601695, 0.7795956167307938)"
            ]
          },
          "metadata": {
            "tags": []
          },
          "execution_count": 27
        }
      ]
    },
    {
      "cell_type": "code",
      "metadata": {
        "id": "7bZG1WEt6jkB",
        "colab_type": "code",
        "colab": {
          "base_uri": "https://localhost:8080/",
          "height": 505
        },
        "outputId": "e3820f7a-3e42-4085-efd5-4ce31207d043"
      },
      "source": [
        "!./ffm-train -p libffm_val_fold_13.txt -r 0.05 -l 0.0002 -t 30 -k 50 --auto-stop libffm_trn_fold_13.txt libffm_fold_13_model\n",
        "!./ffm-predict libffm_val_fold_13.txt libffm_fold_13_model val_preds_fold_13.txt\n",
        "!./ffm-predict libffm_tst_fold_13.txt libffm_fold_13_model tst_preds_fold_13.txt\n",
        "os.remove('libffm_val_fold_13.txt')\n",
        "os.remove('libffm_trn_fold_13.txt')\n",
        "os.remove('libffm_fold_13_model')\n",
        "os.remove('libffm_tst_fold_13.txt')\n",
        "\n",
        "(\n",
        "    log_loss(train['target'].iloc[fold_ids[12][1]], pd.read_csv('val_preds_fold_13.txt', header=None).values[:,0]),\n",
        "    roc_auc_score(train['target'].iloc[fold_ids[12][1]], pd.read_csv('val_preds_fold_13.txt', header=None).values[:,0])\n",
        ")"
      ],
      "execution_count": 28,
      "outputs": [
        {
          "output_type": "stream",
          "text": [
            "First check if the text file has already been converted to binary format (0.0 seconds)\n",
            "Binary file NOT found. Convert text file to binary file (3.3 seconds)\n",
            "First check if the text file has already been converted to binary format (0.0 seconds)\n",
            "Binary file NOT found. Convert text file to binary file (0.1 seconds)\n",
            "iter   tr_logloss   va_logloss      tr_time\n",
            "   1      0.43004      0.41187         10.9\n",
            "   2      0.40900      0.40363         22.1\n",
            "   3      0.40429      0.40170         32.8\n",
            "   4      0.40247      0.40106         43.8\n",
            "   5      0.40134      0.39999         54.3\n",
            "   6      0.40034      0.39965         66.1\n",
            "   7      0.39937      0.39895         77.7\n",
            "   8      0.39835      0.39866         88.3\n",
            "   9      0.39730      0.39811         99.3\n",
            "  10      0.39620      0.39760        110.5\n",
            "  11      0.39513      0.39685        121.6\n",
            "  12      0.39403      0.39656        132.4\n",
            "  13      0.39296      0.39626        143.2\n",
            "  14      0.39199      0.39570        154.4\n",
            "  15      0.39097      0.39559        164.9\n",
            "  16      0.39006      0.39554        176.5\n",
            "  17      0.38915      0.39527        187.3\n",
            "  18      0.38824      0.39506        198.0\n",
            "  19      0.38739      0.39501        208.6\n",
            "  20      0.38653      0.39494        220.1\n",
            "  21      0.38569      0.39494\n",
            "Auto-stop. Use model at 20th iteration.\n",
            "logloss = 0.39494\n",
            "logloss = 2.00174\n"
          ],
          "name": "stdout"
        },
        {
          "output_type": "execute_result",
          "data": {
            "text/plain": [
              "(0.3949368164149922, 0.7931696994506535)"
            ]
          },
          "metadata": {
            "tags": []
          },
          "execution_count": 28
        }
      ]
    },
    {
      "cell_type": "code",
      "metadata": {
        "id": "hAJq79u060_c",
        "colab_type": "code",
        "colab": {
          "base_uri": "https://localhost:8080/",
          "height": 310
        },
        "outputId": "cae2f867-93f7-49d7-86a3-bf5698e1404a"
      },
      "source": [
        "!./ffm-train -p libffm_val_fold_14.txt -r 0.05 -l 0.0002 -t 30 -k 50 --auto-stop libffm_trn_fold_14.txt libffm_fold_14_model\n",
        "!./ffm-predict libffm_val_fold_14.txt libffm_fold_14_model val_preds_fold_14.txt\n",
        "!./ffm-predict libffm_tst_fold_14.txt libffm_fold_14_model tst_preds_fold_14.txt\n",
        "os.remove('libffm_val_fold_14.txt')\n",
        "os.remove('libffm_trn_fold_14.txt')\n",
        "os.remove('libffm_fold_14_model')\n",
        "os.remove('libffm_tst_fold_14.txt')\n",
        "\n",
        "(\n",
        "    log_loss(train['target'].iloc[fold_ids[13][1]], pd.read_csv('val_preds_fold_14.txt', header=None).values[:,0]),\n",
        "    roc_auc_score(train['target'].iloc[fold_ids[13][1]], pd.read_csv('val_preds_fold_14.txt', header=None).values[:,0])\n",
        ")"
      ],
      "execution_count": 29,
      "outputs": [
        {
          "output_type": "stream",
          "text": [
            "First check if the text file has already been converted to binary format (0.0 seconds)\n",
            "Binary file NOT found. Convert text file to binary file (3.3 seconds)\n",
            "First check if the text file has already been converted to binary format (0.0 seconds)\n",
            "Binary file NOT found. Convert text file to binary file (0.1 seconds)\n",
            "iter   tr_logloss   va_logloss      tr_time\n",
            "   1      0.42996      0.41619         10.7\n",
            "   2      0.40890      0.40854         21.8\n",
            "   3      0.40411      0.40696         33.1\n",
            "   4      0.40231      0.40676         44.1\n",
            "   5      0.40114      0.40588         55.2\n",
            "   6      0.40015      0.40546         66.0\n",
            "   7      0.39915      0.40517         76.9\n",
            "   8      0.39815      0.40460         88.5\n",
            "   9      0.39702      0.40474\n",
            "Auto-stop. Use model at 8th iteration.\n",
            "logloss = 0.40460\n",
            "logloss = 1.98680\n"
          ],
          "name": "stdout"
        },
        {
          "output_type": "execute_result",
          "data": {
            "text/plain": [
              "(0.40459760550738294, 0.7761956827173764)"
            ]
          },
          "metadata": {
            "tags": []
          },
          "execution_count": 29
        }
      ]
    },
    {
      "cell_type": "code",
      "metadata": {
        "id": "go33-Ae38KxR",
        "colab_type": "code",
        "colab": {
          "base_uri": "https://localhost:8080/",
          "height": 310
        },
        "outputId": "09496ebe-d3c6-4a16-e33b-181d0c78f132"
      },
      "source": [
        "!./ffm-train -p libffm_val_fold_15.txt -r 0.05 -l 0.0002 -t 30 -k 50 --auto-stop libffm_trn_fold_15.txt libffm_fold_15_model\n",
        "!./ffm-predict libffm_val_fold_15.txt libffm_fold_15_model val_preds_fold_15.txt\n",
        "!./ffm-predict libffm_tst_fold_15.txt libffm_fold_15_model tst_preds_fold_15.txt\n",
        "os.remove('libffm_val_fold_15.txt')\n",
        "os.remove('libffm_trn_fold_15.txt')\n",
        "os.remove('libffm_fold_15_model')\n",
        "os.remove('libffm_tst_fold_15.txt')\n",
        "\n",
        "(\n",
        "    log_loss(train['target'].iloc[fold_ids[14][1]], pd.read_csv('val_preds_fold_15.txt', header=None).values[:,0]),\n",
        "    roc_auc_score(train['target'].iloc[fold_ids[14][1]], pd.read_csv('val_preds_fold_15.txt', header=None).values[:,0])\n",
        ")"
      ],
      "execution_count": 30,
      "outputs": [
        {
          "output_type": "stream",
          "text": [
            "First check if the text file has already been converted to binary format (0.0 seconds)\n",
            "Binary file NOT found. Convert text file to binary file (3.3 seconds)\n",
            "First check if the text file has already been converted to binary format (0.0 seconds)\n",
            "Binary file NOT found. Convert text file to binary file (0.1 seconds)\n",
            "iter   tr_logloss   va_logloss      tr_time\n",
            "   1      0.42990      0.41716         10.6\n",
            "   2      0.40879      0.41019         20.8\n",
            "   3      0.40408      0.40858         31.0\n",
            "   4      0.40229      0.40761         41.8\n",
            "   5      0.40114      0.40709         52.3\n",
            "   6      0.40013      0.40659         62.9\n",
            "   7      0.39917      0.40607         73.3\n",
            "   8      0.39814      0.40554         83.4\n",
            "   9      0.39703      0.40562\n",
            "Auto-stop. Use model at 8th iteration.\n",
            "logloss = 0.40554\n",
            "logloss = 1.96755\n"
          ],
          "name": "stdout"
        },
        {
          "output_type": "execute_result",
          "data": {
            "text/plain": [
              "(0.4055368188745893, 0.7741589129997766)"
            ]
          },
          "metadata": {
            "tags": []
          },
          "execution_count": 30
        }
      ]
    },
    {
      "cell_type": "code",
      "metadata": {
        "id": "yXpcyEBV-IlW",
        "colab_type": "code",
        "colab": {
          "base_uri": "https://localhost:8080/",
          "height": 553
        },
        "outputId": "14b917d0-2b63-4ab7-8e9b-a12ba81a1f8e"
      },
      "source": [
        "!./ffm-train -p libffm_val_fold_16.txt -r 0.05 -l 0.0002 -t 30 -k 50 --auto-stop libffm_trn_fold_16.txt libffm_fold_16_model\n",
        "!./ffm-predict libffm_val_fold_16.txt libffm_fold_16_model val_preds_fold_16.txt\n",
        "!./ffm-predict libffm_tst_fold_16.txt libffm_fold_16_model tst_preds_fold_16.txt\n",
        "os.remove('libffm_val_fold_16.txt')\n",
        "os.remove('libffm_trn_fold_16.txt')\n",
        "os.remove('libffm_fold_16_model')\n",
        "os.remove('libffm_tst_fold_16.txt')\n",
        "\n",
        "(\n",
        "    log_loss(train['target'].iloc[fold_ids[15][1]], pd.read_csv('val_preds_fold_16.txt', header=None).values[:,0]),\n",
        "    roc_auc_score(train['target'].iloc[fold_ids[15][1]], pd.read_csv('val_preds_fold_16.txt', header=None).values[:,0])\n",
        ")"
      ],
      "execution_count": 31,
      "outputs": [
        {
          "output_type": "stream",
          "text": [
            "First check if the text file has already been converted to binary format (0.0 seconds)\n",
            "Binary file NOT found. Convert text file to binary file (3.3 seconds)\n",
            "First check if the text file has already been converted to binary format (0.0 seconds)\n",
            "Binary file NOT found. Convert text file to binary file (0.1 seconds)\n",
            "iter   tr_logloss   va_logloss      tr_time\n",
            "   1      0.43007      0.41743         10.2\n",
            "   2      0.40896      0.40969         20.7\n",
            "   3      0.40416      0.40763         31.0\n",
            "   4      0.40233      0.40695         41.3\n",
            "   5      0.40120      0.40603         51.7\n",
            "   6      0.40022      0.40538         62.4\n",
            "   7      0.39922      0.40507         73.2\n",
            "   8      0.39824      0.40453         84.2\n",
            "   9      0.39710      0.40399         94.8\n",
            "  10      0.39608      0.40342        106.3\n",
            "  11      0.39499      0.40296        116.7\n",
            "  12      0.39385      0.40261        127.9\n",
            "  13      0.39284      0.40214        138.3\n",
            "  14      0.39180      0.40181        149.3\n",
            "  15      0.39087      0.40165        160.3\n",
            "  16      0.38994      0.40141        170.7\n",
            "  17      0.38903      0.40135        181.2\n",
            "  18      0.38813      0.40109        192.3\n",
            "  19      0.38729      0.40092        203.0\n",
            "  20      0.38640      0.40080        213.8\n",
            "  21      0.38559      0.40080        224.3\n",
            "  22      0.38472      0.40074        235.2\n",
            "  23      0.38386      0.40062        245.9\n",
            "  24      0.38299      0.40065\n",
            "Auto-stop. Use model at 23th iteration.\n",
            "logloss = 0.40062\n",
            "logloss = 1.99831\n"
          ],
          "name": "stdout"
        },
        {
          "output_type": "execute_result",
          "data": {
            "text/plain": [
              "(0.4006208672917394, 0.7829650588812479)"
            ]
          },
          "metadata": {
            "tags": []
          },
          "execution_count": 31
        }
      ]
    },
    {
      "cell_type": "code",
      "metadata": {
        "id": "Xx8HAhRx-kgJ",
        "colab_type": "code",
        "colab": {
          "base_uri": "https://localhost:8080/",
          "height": 472
        },
        "outputId": "53c10a4c-06fc-4b69-ab57-f21073a277b4"
      },
      "source": [
        "!./ffm-train -p libffm_val_fold_17.txt -r 0.05 -l 0.0002 -t 30 -k 50 --auto-stop libffm_trn_fold_17.txt libffm_fold_17_model\n",
        "!./ffm-predict libffm_val_fold_17.txt libffm_fold_17_model val_preds_fold_17.txt\n",
        "!./ffm-predict libffm_tst_fold_17.txt libffm_fold_17_model tst_preds_fold_17.txt\n",
        "os.remove('libffm_val_fold_17.txt')\n",
        "os.remove('libffm_trn_fold_17.txt')\n",
        "os.remove('libffm_fold_17_model')\n",
        "os.remove('libffm_tst_fold_17.txt')\n",
        "\n",
        "(\n",
        "    log_loss(train['target'].iloc[fold_ids[16][1]], pd.read_csv('val_preds_fold_17.txt', header=None).values[:,0]),\n",
        "    roc_auc_score(train['target'].iloc[fold_ids[16][1]], pd.read_csv('val_preds_fold_17.txt', header=None).values[:,0])\n",
        ")"
      ],
      "execution_count": 32,
      "outputs": [
        {
          "output_type": "stream",
          "text": [
            "First check if the text file has already been converted to binary format (0.0 seconds)\n",
            "Binary file NOT found. Convert text file to binary file (3.3 seconds)\n",
            "First check if the text file has already been converted to binary format (0.0 seconds)\n",
            "Binary file NOT found. Convert text file to binary file (0.1 seconds)\n",
            "iter   tr_logloss   va_logloss      tr_time\n",
            "   1      0.42999      0.41448         11.7\n",
            "   2      0.40897      0.40679         21.9\n",
            "   3      0.40418      0.40449         33.2\n",
            "   4      0.40241      0.40389         43.7\n",
            "   5      0.40126      0.40326         54.4\n",
            "   6      0.40028      0.40274         64.7\n",
            "   7      0.39929      0.40226         74.9\n",
            "   8      0.39827      0.40185         85.5\n",
            "   9      0.39718      0.40135         95.7\n",
            "  10      0.39611      0.40103        106.3\n",
            "  11      0.39500      0.40057        116.9\n",
            "  12      0.39388      0.40020        127.4\n",
            "  13      0.39289      0.40004        137.9\n",
            "  14      0.39185      0.39973        148.3\n",
            "  15      0.39090      0.39948        159.1\n",
            "  16      0.39000      0.39928        170.6\n",
            "  17      0.38909      0.39906        181.7\n",
            "  18      0.38819      0.39893        192.2\n",
            "  19      0.38734      0.39899\n",
            "Auto-stop. Use model at 18th iteration.\n",
            "logloss = 0.39893\n",
            "logloss = 2.00025\n"
          ],
          "name": "stdout"
        },
        {
          "output_type": "execute_result",
          "data": {
            "text/plain": [
              "(0.39893279298765627, 0.7866866409670777)"
            ]
          },
          "metadata": {
            "tags": []
          },
          "execution_count": 32
        }
      ]
    },
    {
      "cell_type": "code",
      "metadata": {
        "id": "l4REdcti_osG",
        "colab_type": "code",
        "colab": {
          "base_uri": "https://localhost:8080/",
          "height": 472
        },
        "outputId": "86ec9857-5c56-4df2-ad59-ff5db1e340c6"
      },
      "source": [
        "!./ffm-train -p libffm_val_fold_18.txt -r 0.05 -l 0.0002 -t 30 -k 50 --auto-stop libffm_trn_fold_18.txt libffm_fold_18_model\n",
        "!./ffm-predict libffm_val_fold_18.txt libffm_fold_18_model val_preds_fold_18.txt\n",
        "!./ffm-predict libffm_tst_fold_18.txt libffm_fold_18_model tst_preds_fold_18.txt\n",
        "os.remove('libffm_val_fold_18.txt')\n",
        "os.remove('libffm_trn_fold_18.txt')\n",
        "os.remove('libffm_fold_18_model')\n",
        "os.remove('libffm_tst_fold_18.txt')\n",
        "\n",
        "(\n",
        "    log_loss(train['target'].iloc[fold_ids[17][1]], pd.read_csv('val_preds_fold_18.txt', header=None).values[:,0]),\n",
        "    roc_auc_score(train['target'].iloc[fold_ids[17][1]], pd.read_csv('val_preds_fold_18.txt', header=None).values[:,0])\n",
        ")"
      ],
      "execution_count": 33,
      "outputs": [
        {
          "output_type": "stream",
          "text": [
            "First check if the text file has already been converted to binary format (0.0 seconds)\n",
            "Binary file NOT found. Convert text file to binary file (3.3 seconds)\n",
            "First check if the text file has already been converted to binary format (0.0 seconds)\n",
            "Binary file NOT found. Convert text file to binary file (0.1 seconds)\n",
            "iter   tr_logloss   va_logloss      tr_time\n",
            "   1      0.43000      0.41643         10.8\n",
            "   2      0.40902      0.40750         21.4\n",
            "   3      0.40421      0.40525         32.9\n",
            "   4      0.40241      0.40423         43.2\n",
            "   5      0.40118      0.40351         53.5\n",
            "   6      0.40024      0.40277         64.1\n",
            "   7      0.39926      0.40229         74.7\n",
            "   8      0.39821      0.40169         85.0\n",
            "   9      0.39711      0.40152         96.3\n",
            "  10      0.39602      0.40066        107.0\n",
            "  11      0.39489      0.40030        117.9\n",
            "  12      0.39383      0.40009        128.2\n",
            "  13      0.39282      0.39969        138.5\n",
            "  14      0.39182      0.39938        148.8\n",
            "  15      0.39085      0.39918        159.2\n",
            "  16      0.38995      0.39885        170.8\n",
            "  17      0.38906      0.39876        181.3\n",
            "  18      0.38813      0.39847        191.7\n",
            "  19      0.38733      0.39847\n",
            "Auto-stop. Use model at 18th iteration.\n",
            "logloss = 0.39847\n",
            "logloss = 2.00383\n"
          ],
          "name": "stdout"
        },
        {
          "output_type": "execute_result",
          "data": {
            "text/plain": [
              "(0.3984652546070874, 0.7874988519904886)"
            ]
          },
          "metadata": {
            "tags": []
          },
          "execution_count": 33
        }
      ]
    },
    {
      "cell_type": "code",
      "metadata": {
        "id": "AHoJtU2gBPOr",
        "colab_type": "code",
        "colab": {
          "base_uri": "https://localhost:8080/",
          "height": 505
        },
        "outputId": "f54b35e7-ad8a-456c-b17a-6e47a500c020"
      },
      "source": [
        "!./ffm-train -p libffm_val_fold_19.txt -r 0.05 -l 0.0002 -t 30 -k 50 --auto-stop libffm_trn_fold_19.txt libffm_fold_19_model\n",
        "!./ffm-predict libffm_val_fold_19.txt libffm_fold_19_model val_preds_fold_19.txt\n",
        "!./ffm-predict libffm_tst_fold_19.txt libffm_fold_19_model tst_preds_fold_19.txt\n",
        "os.remove('libffm_val_fold_19.txt')\n",
        "os.remove('libffm_trn_fold_19.txt')\n",
        "os.remove('libffm_fold_19_model')\n",
        "os.remove('libffm_tst_fold_19.txt')\n",
        "\n",
        "(\n",
        "    log_loss(train['target'].iloc[fold_ids[18][1]], pd.read_csv('val_preds_fold_19.txt', header=None).values[:,0]),\n",
        "    roc_auc_score(train['target'].iloc[fold_ids[18][1]], pd.read_csv('val_preds_fold_19.txt', header=None).values[:,0])\n",
        ")"
      ],
      "execution_count": 34,
      "outputs": [
        {
          "output_type": "stream",
          "text": [
            "First check if the text file has already been converted to binary format (0.0 seconds)\n",
            "Binary file NOT found. Convert text file to binary file (3.3 seconds)\n",
            "First check if the text file has already been converted to binary format (0.0 seconds)\n",
            "Binary file NOT found. Convert text file to binary file (0.1 seconds)\n",
            "iter   tr_logloss   va_logloss      tr_time\n",
            "   1      0.42995      0.41297         10.5\n",
            "   2      0.40903      0.40469         21.0\n",
            "   3      0.40427      0.40236         31.5\n",
            "   4      0.40245      0.40164         42.2\n",
            "   5      0.40133      0.40085         52.4\n",
            "   6      0.40034      0.40022         63.6\n",
            "   7      0.39934      0.39982         74.5\n",
            "   8      0.39831      0.39929         85.4\n",
            "   9      0.39726      0.39893         96.4\n",
            "  10      0.39614      0.39852        107.2\n",
            "  11      0.39509      0.39770        117.9\n",
            "  12      0.39397      0.39750        128.3\n",
            "  13      0.39295      0.39725        139.1\n",
            "  14      0.39194      0.39693        150.2\n",
            "  15      0.39097      0.39660        160.7\n",
            "  16      0.39005      0.39643        171.7\n",
            "  17      0.38916      0.39631        182.8\n",
            "  18      0.38824      0.39601        193.5\n",
            "  19      0.38741      0.39599        204.3\n",
            "  20      0.38653      0.39587        214.8\n",
            "  21      0.38569      0.39601\n",
            "Auto-stop. Use model at 20th iteration.\n",
            "logloss = 0.39587\n",
            "logloss = 1.99585\n"
          ],
          "name": "stdout"
        },
        {
          "output_type": "execute_result",
          "data": {
            "text/plain": [
              "(0.39587097696058815, 0.7913163373758483)"
            ]
          },
          "metadata": {
            "tags": []
          },
          "execution_count": 34
        }
      ]
    },
    {
      "cell_type": "code",
      "metadata": {
        "id": "oUWxVFyzBfGR",
        "colab_type": "code",
        "colab": {
          "base_uri": "https://localhost:8080/",
          "height": 456
        },
        "outputId": "dfe66dbb-c6d9-479e-ea82-f76fea9111d2"
      },
      "source": [
        "!./ffm-train -p libffm_val_fold_20.txt -r 0.05 -l 0.0002 -t 30 -k 50 --auto-stop libffm_trn_fold_20.txt libffm_fold_20_model\n",
        "!./ffm-predict libffm_val_fold_20.txt libffm_fold_20_model val_preds_fold_20.txt\n",
        "!./ffm-predict libffm_tst_fold_20.txt libffm_fold_20_model tst_preds_fold_20.txt\n",
        "os.remove('libffm_val_fold_20.txt')\n",
        "os.remove('libffm_trn_fold_20.txt')\n",
        "os.remove('libffm_fold_20_model')\n",
        "os.remove('libffm_tst_fold_20.txt')\n",
        "\n",
        "(\n",
        "    log_loss(train['target'].iloc[fold_ids[19][1]], pd.read_csv('val_preds_fold_20.txt', header=None).values[:,0]),\n",
        "    roc_auc_score(train['target'].iloc[fold_ids[19][1]], pd.read_csv('val_preds_fold_20.txt', header=None).values[:,0])\n",
        ")"
      ],
      "execution_count": 35,
      "outputs": [
        {
          "output_type": "stream",
          "text": [
            "First check if the text file has already been converted to binary format (0.0 seconds)\n",
            "Binary file NOT found. Convert text file to binary file (3.3 seconds)\n",
            "First check if the text file has already been converted to binary format (0.0 seconds)\n",
            "Binary file NOT found. Convert text file to binary file (0.1 seconds)\n",
            "iter   tr_logloss   va_logloss      tr_time\n",
            "   1      0.43011      0.41224         10.8\n",
            "   2      0.40903      0.40538         21.5\n",
            "   3      0.40425      0.40328         32.8\n",
            "   4      0.40242      0.40238         44.4\n",
            "   5      0.40122      0.40201         54.7\n",
            "   6      0.40027      0.40123         65.8\n",
            "   7      0.39928      0.40071         77.8\n",
            "   8      0.39825      0.40037         88.4\n",
            "   9      0.39714      0.39959         99.2\n",
            "  10      0.39605      0.39933        110.4\n",
            "  11      0.39496      0.39896        121.3\n",
            "  12      0.39385      0.39861        132.4\n",
            "  13      0.39285      0.39807        143.3\n",
            "  14      0.39184      0.39784        154.2\n",
            "  15      0.39087      0.39775        165.6\n",
            "  16      0.38997      0.39769        176.8\n",
            "  17      0.38909      0.39706        188.3\n",
            "  18      0.38814      0.39733\n",
            "Auto-stop. Use model at 17th iteration.\n",
            "logloss = 0.39706\n",
            "logloss = 2.00359\n"
          ],
          "name": "stdout"
        },
        {
          "output_type": "execute_result",
          "data": {
            "text/plain": [
              "(0.39705536369377226, 0.788473473266031)"
            ]
          },
          "metadata": {
            "tags": []
          },
          "execution_count": 35
        }
      ]
    },
    {
      "cell_type": "code",
      "metadata": {
        "id": "ZxOsQRljBuCo",
        "colab_type": "code",
        "colab": {
          "base_uri": "https://localhost:8080/",
          "height": 277
        },
        "outputId": "357cac31-9722-4ff0-a7f3-3973a5779510"
      },
      "source": [
        "!./ffm-train -p libffm_val_fold_21.txt -r 0.05 -t 30 -l 0.00002 -k 50 --auto-stop libffm_trn_fold_21.txt libffm_fold_21_model\n",
        "!./ffm-predict libffm_val_fold_21.txt libffm_fold_21_model val_preds_fold_21.txt\n",
        "!./ffm-predict libffm_tst_fold_21.txt libffm_fold_21_model tst_preds_fold_21.txt\n",
        "os.remove('libffm_val_fold_21.txt')\n",
        "os.remove('libffm_trn_fold_21.txt')\n",
        "os.remove('libffm_fold_21_model')\n",
        "os.remove('libffm_tst_fold_21.txt')\n",
        "(\n",
        "    log_loss(train['target'].iloc[fold_ids[20][1]], pd.read_csv('val_preds_fold_21.txt', header=None).values[:,0]),\n",
        "    roc_auc_score(train['target'].iloc[fold_ids[20][1]], pd.read_csv('val_preds_fold_21.txt', header=None).values[:,0])\n",
        ")"
      ],
      "execution_count": 36,
      "outputs": [
        {
          "output_type": "stream",
          "text": [
            "First check if the text file has already been converted to binary format (0.0 seconds)\n",
            "Binary file NOT found. Convert text file to binary file (3.4 seconds)\n",
            "First check if the text file has already been converted to binary format (0.0 seconds)\n",
            "Binary file NOT found. Convert text file to binary file (0.1 seconds)\n",
            "iter   tr_logloss   va_logloss      tr_time\n",
            "   1      0.42496      0.40853         10.5\n",
            "   2      0.40183      0.40542         21.4\n",
            "   3      0.39891      0.40440         32.0\n",
            "   4      0.39616      0.40217         42.9\n",
            "   5      0.39305      0.40133         53.6\n",
            "   6      0.39038      0.40042         64.9\n",
            "   7      0.38834      0.40078\n",
            "Auto-stop. Use model at 6th iteration.\n",
            "logloss = 0.40042\n",
            "logloss = 2.09666\n"
          ],
          "name": "stdout"
        },
        {
          "output_type": "execute_result",
          "data": {
            "text/plain": [
              "(0.40041801182074793, 0.7842009835542958)"
            ]
          },
          "metadata": {
            "tags": []
          },
          "execution_count": 36
        }
      ]
    },
    {
      "cell_type": "code",
      "metadata": {
        "id": "DEKgKI90B6rx",
        "colab_type": "code",
        "colab": {
          "base_uri": "https://localhost:8080/",
          "height": 326
        },
        "outputId": "022b7ee5-c478-4c06-dd12-fc833beb9afb"
      },
      "source": [
        "!./ffm-train -p libffm_val_fold_22.txt -r 0.05 -t 30 -l 0.00002 -k 50 --auto-stop libffm_trn_fold_22.txt libffm_fold_22_model\n",
        "!./ffm-predict libffm_val_fold_22.txt libffm_fold_22_model val_preds_fold_22.txt\n",
        "!./ffm-predict libffm_tst_fold_22.txt libffm_fold_22_model tst_preds_fold_22.txt\n",
        "os.remove('libffm_val_fold_22.txt')\n",
        "os.remove('libffm_trn_fold_22.txt')\n",
        "os.remove('libffm_fold_22_model')\n",
        "os.remove('libffm_tst_fold_22.txt')\n",
        "(\n",
        "    log_loss(train['target'].iloc[fold_ids[21][1]], pd.read_csv('val_preds_fold_22.txt', header=None).values[:,0]),\n",
        "    roc_auc_score(train['target'].iloc[fold_ids[21][1]], pd.read_csv('val_preds_fold_22.txt', header=None).values[:,0])\n",
        ")"
      ],
      "execution_count": 37,
      "outputs": [
        {
          "output_type": "stream",
          "text": [
            "First check if the text file has already been converted to binary format (0.0 seconds)\n",
            "Binary file NOT found. Convert text file to binary file (3.3 seconds)\n",
            "First check if the text file has already been converted to binary format (0.0 seconds)\n",
            "Binary file NOT found. Convert text file to binary file (0.1 seconds)\n",
            "iter   tr_logloss   va_logloss      tr_time\n",
            "   1      0.42488      0.40471         10.9\n",
            "   2      0.40199      0.40067         22.0\n",
            "   3      0.39909      0.39889         32.7\n",
            "   4      0.39629      0.39684         45.2\n",
            "   5      0.39321      0.39538         56.2\n",
            "   6      0.39059      0.39438         66.5\n",
            "   7      0.38853      0.39401         77.2\n",
            "   8      0.38679      0.39392         88.0\n",
            "   9      0.38497      0.39386         98.2\n",
            "  10      0.38308      0.39394\n",
            "Auto-stop. Use model at 9th iteration.\n",
            "logloss = 0.39386\n",
            "logloss = 2.10241\n"
          ],
          "name": "stdout"
        },
        {
          "output_type": "execute_result",
          "data": {
            "text/plain": [
              "(0.39386152112196865, 0.791320057565716)"
            ]
          },
          "metadata": {
            "tags": []
          },
          "execution_count": 37
        }
      ]
    },
    {
      "cell_type": "code",
      "metadata": {
        "id": "6HIF5gokB84z",
        "colab_type": "code",
        "colab": {
          "base_uri": "https://localhost:8080/",
          "height": 310
        },
        "outputId": "21962693-10a9-45c4-e433-4f1418335ea2"
      },
      "source": [
        "!./ffm-train -p libffm_val_fold_23.txt -r 0.05 -t 30 -l 0.00002 -k 50 --auto-stop libffm_trn_fold_23.txt libffm_fold_23_model\n",
        "!./ffm-predict libffm_val_fold_23.txt libffm_fold_23_model val_preds_fold_23.txt\n",
        "!./ffm-predict libffm_tst_fold_23.txt libffm_fold_23_model tst_preds_fold_23.txt\n",
        "os.remove('libffm_val_fold_23.txt')\n",
        "os.remove('libffm_trn_fold_23.txt')\n",
        "os.remove('libffm_fold_23_model')\n",
        "os.remove('libffm_tst_fold_23.txt')\n",
        "(\n",
        "    log_loss(train['target'].iloc[fold_ids[22][1]], pd.read_csv('val_preds_fold_23.txt', header=None).values[:,0]),\n",
        "    roc_auc_score(train['target'].iloc[fold_ids[22][1]], pd.read_csv('val_preds_fold_23.txt', header=None).values[:,0])\n",
        ")"
      ],
      "execution_count": 38,
      "outputs": [
        {
          "output_type": "stream",
          "text": [
            "First check if the text file has already been converted to binary format (0.0 seconds)\n",
            "Binary file NOT found. Convert text file to binary file (3.4 seconds)\n",
            "First check if the text file has already been converted to binary format (0.0 seconds)\n",
            "Binary file NOT found. Convert text file to binary file (0.1 seconds)\n",
            "iter   tr_logloss   va_logloss      tr_time\n",
            "   1      0.42513      0.39908         11.6\n",
            "   2      0.40211      0.39509         22.5\n",
            "   3      0.39916      0.39346         33.1\n",
            "   4      0.39639      0.39130         43.8\n",
            "   5      0.39332      0.38898         54.3\n",
            "   6      0.39067      0.38781         64.5\n",
            "   7      0.38867      0.38722         76.2\n",
            "   8      0.38689      0.38698         87.4\n",
            "   9      0.38508      0.38717\n",
            "Auto-stop. Use model at 8th iteration.\n",
            "logloss = 0.38698\n",
            "logloss = 2.12450\n"
          ],
          "name": "stdout"
        },
        {
          "output_type": "execute_result",
          "data": {
            "text/plain": [
              "(0.38698265957565436, 0.8004403883166137)"
            ]
          },
          "metadata": {
            "tags": []
          },
          "execution_count": 38
        }
      ]
    },
    {
      "cell_type": "code",
      "metadata": {
        "id": "JM5mHiaHCCy2",
        "colab_type": "code",
        "colab": {
          "base_uri": "https://localhost:8080/",
          "height": 293
        },
        "outputId": "da6a399f-5830-4642-d9b3-bfe3224b5ab8"
      },
      "source": [
        "!./ffm-train -p libffm_val_fold_24.txt -r 0.05 -t 30 -l 0.00002 -k 50 --auto-stop libffm_trn_fold_24.txt libffm_fold_24_model\n",
        "!./ffm-predict libffm_val_fold_24.txt libffm_fold_24_model val_preds_fold_24.txt\n",
        "!./ffm-predict libffm_tst_fold_24.txt libffm_fold_24_model tst_preds_fold_24.txt\n",
        "os.remove('libffm_val_fold_24.txt')\n",
        "os.remove('libffm_trn_fold_24.txt')\n",
        "os.remove('libffm_fold_24_model')\n",
        "os.remove('libffm_tst_fold_24.txt')\n",
        "(\n",
        "    log_loss(train['target'].iloc[fold_ids[23][1]], pd.read_csv('val_preds_fold_24.txt', header=None).values[:,0]),\n",
        "    roc_auc_score(train['target'].iloc[fold_ids[23][1]], pd.read_csv('val_preds_fold_24.txt', header=None).values[:,0])\n",
        ")"
      ],
      "execution_count": 39,
      "outputs": [
        {
          "output_type": "stream",
          "text": [
            "First check if the text file has already been converted to binary format (0.0 seconds)\n",
            "Binary file NOT found. Convert text file to binary file (3.4 seconds)\n",
            "First check if the text file has already been converted to binary format (0.0 seconds)\n",
            "Binary file NOT found. Convert text file to binary file (0.1 seconds)\n",
            "iter   tr_logloss   va_logloss      tr_time\n",
            "   1      0.42493      0.40388         10.5\n",
            "   2      0.40199      0.39952         21.3\n",
            "   3      0.39911      0.39815         33.0\n",
            "   4      0.39633      0.39649         44.6\n",
            "   5      0.39325      0.39488         55.4\n",
            "   6      0.39059      0.39413         67.4\n",
            "   7      0.38854      0.39395         78.5\n",
            "   8      0.38677      0.39400\n",
            "Auto-stop. Use model at 7th iteration.\n",
            "logloss = 0.39395\n",
            "logloss = 2.12966\n"
          ],
          "name": "stdout"
        },
        {
          "output_type": "execute_result",
          "data": {
            "text/plain": [
              "(0.39394896699577414, 0.7932222613970641)"
            ]
          },
          "metadata": {
            "tags": []
          },
          "execution_count": 39
        }
      ]
    },
    {
      "cell_type": "code",
      "metadata": {
        "id": "MAufbMxZCI1F",
        "colab_type": "code",
        "colab": {
          "base_uri": "https://localhost:8080/",
          "height": 277
        },
        "outputId": "af224a53-d86a-491a-845f-a65f4cdff6c2"
      },
      "source": [
        "!./ffm-train -p libffm_val_fold_25.txt -r 0.05 -t 30 -l 0.00002 -k 50 --auto-stop libffm_trn_fold_25.txt libffm_fold_25_model\n",
        "!./ffm-predict libffm_val_fold_25.txt libffm_fold_25_model val_preds_fold_25.txt\n",
        "!./ffm-predict libffm_tst_fold_25.txt libffm_fold_25_model tst_preds_fold_25.txt\n",
        "os.remove('libffm_val_fold_25.txt')\n",
        "os.remove('libffm_trn_fold_25.txt')\n",
        "os.remove('libffm_fold_25_model')\n",
        "os.remove('libffm_tst_fold_25.txt')\n",
        "(\n",
        "    log_loss(train['target'].iloc[fold_ids[24][1]], pd.read_csv('val_preds_fold_25.txt', header=None).values[:,0]),\n",
        "    roc_auc_score(train['target'].iloc[fold_ids[24][1]], pd.read_csv('val_preds_fold_25.txt', header=None).values[:,0])\n",
        ")"
      ],
      "execution_count": 40,
      "outputs": [
        {
          "output_type": "stream",
          "text": [
            "First check if the text file has already been converted to binary format (0.0 seconds)\n",
            "Binary file NOT found. Convert text file to binary file (3.4 seconds)\n",
            "First check if the text file has already been converted to binary format (0.0 seconds)\n",
            "Binary file NOT found. Convert text file to binary file (0.1 seconds)\n",
            "iter   tr_logloss   va_logloss      tr_time\n",
            "   1      0.42485      0.40874         10.8\n",
            "   2      0.40186      0.40495         22.4\n",
            "   3      0.39895      0.40383         32.9\n",
            "   4      0.39614      0.40273         44.2\n",
            "   5      0.39302      0.40104         55.3\n",
            "   6      0.39036      0.40050         66.3\n",
            "   7      0.38834      0.40060\n",
            "Auto-stop. Use model at 6th iteration.\n",
            "logloss = 0.40050\n",
            "logloss = 2.08543\n"
          ],
          "name": "stdout"
        },
        {
          "output_type": "execute_result",
          "data": {
            "text/plain": [
              "(0.4004960036771434, 0.7813880407261738)"
            ]
          },
          "metadata": {
            "tags": []
          },
          "execution_count": 40
        }
      ]
    },
    {
      "cell_type": "code",
      "metadata": {
        "id": "Hy-jIo7DFIee",
        "colab_type": "code",
        "colab": {
          "base_uri": "https://localhost:8080/",
          "height": 293
        },
        "outputId": "3766ebc5-b65e-431c-efbd-3cd74842f4ed"
      },
      "source": [
        "!./ffm-train -p libffm_val_fold_26.txt -r 0.05 -t 30 -l 0.00002 -k 50 --auto-stop libffm_trn_fold_26.txt libffm_fold_26_model\n",
        "!./ffm-predict libffm_val_fold_26.txt libffm_fold_26_model val_preds_fold_26.txt\n",
        "!./ffm-predict libffm_tst_fold_26.txt libffm_fold_26_model tst_preds_fold_26.txt\n",
        "os.remove('libffm_val_fold_26.txt')\n",
        "os.remove('libffm_trn_fold_26.txt')\n",
        "os.remove('libffm_fold_26_model')\n",
        "os.remove('libffm_tst_fold_26.txt')\n",
        "(\n",
        "    log_loss(train['target'].iloc[fold_ids[25][1]], pd.read_csv('val_preds_fold_26.txt', header=None).values[:,0]),\n",
        "    roc_auc_score(train['target'].iloc[fold_ids[25][1]], pd.read_csv('val_preds_fold_26.txt', header=None).values[:,0])\n",
        ")"
      ],
      "execution_count": 52,
      "outputs": [
        {
          "output_type": "stream",
          "text": [
            "First check if the text file has already been converted to binary format (0.0 seconds)\n",
            "Binary file NOT found. Convert text file to binary file (3.3 seconds)\n",
            "First check if the text file has already been converted to binary format (0.0 seconds)\n",
            "Binary file NOT found. Convert text file to binary file (0.1 seconds)\n",
            "iter   tr_logloss   va_logloss      tr_time\n",
            "   1      0.42487      0.40547         10.4\n",
            "   2      0.40189      0.40181         20.9\n",
            "   3      0.39899      0.40036         31.2\n",
            "   4      0.39618      0.39851         42.1\n",
            "   5      0.39308      0.39693         53.2\n",
            "   6      0.39041      0.39656         64.0\n",
            "   7      0.38840      0.39630         74.3\n",
            "   8      0.38661      0.39643\n",
            "Auto-stop. Use model at 7th iteration.\n",
            "logloss = 0.39630\n",
            "logloss = 2.11919\n"
          ],
          "name": "stdout"
        },
        {
          "output_type": "execute_result",
          "data": {
            "text/plain": [
              "(0.3963009144996502, 0.7878527721394204)"
            ]
          },
          "metadata": {
            "tags": []
          },
          "execution_count": 52
        }
      ]
    },
    {
      "cell_type": "code",
      "metadata": {
        "id": "jr-2YZAJGiMt",
        "colab_type": "code",
        "colab": {
          "base_uri": "https://localhost:8080/",
          "height": 293
        },
        "outputId": "a0abaa76-8cd2-41bf-cb9e-bed98850fad5"
      },
      "source": [
        "!./ffm-train -p libffm_val_fold_27.txt -r 0.05 -t 30 -l 0.00002 -k 50 --auto-stop libffm_trn_fold_27.txt libffm_fold_27_model\n",
        "!./ffm-predict libffm_val_fold_27.txt libffm_fold_27_model val_preds_fold_27.txt\n",
        "!./ffm-predict libffm_tst_fold_27.txt libffm_fold_27_model tst_preds_fold_27.txt\n",
        "os.remove('libffm_val_fold_27.txt')\n",
        "os.remove('libffm_trn_fold_27.txt')\n",
        "os.remove('libffm_fold_27_model')\n",
        "os.remove('libffm_tst_fold_27.txt')\n",
        "(\n",
        "    log_loss(train['target'].iloc[fold_ids[26][1]], pd.read_csv('val_preds_fold_27.txt', header=None).values[:,0]),\n",
        "    roc_auc_score(train['target'].iloc[fold_ids[26][1]], pd.read_csv('val_preds_fold_27.txt', header=None).values[:,0])\n",
        ")"
      ],
      "execution_count": 53,
      "outputs": [
        {
          "output_type": "stream",
          "text": [
            "First check if the text file has already been converted to binary format (0.0 seconds)\n",
            "Binary file NOT found. Convert text file to binary file (3.3 seconds)\n",
            "First check if the text file has already been converted to binary format (0.0 seconds)\n",
            "Binary file NOT found. Convert text file to binary file (0.1 seconds)\n",
            "iter   tr_logloss   va_logloss      tr_time\n",
            "   1      0.42481      0.40641         11.2\n",
            "   2      0.40192      0.40309         21.5\n",
            "   3      0.39902      0.40139         31.9\n",
            "   4      0.39624      0.39962         42.1\n",
            "   5      0.39318      0.39789         52.2\n",
            "   6      0.39051      0.39734         62.7\n",
            "   7      0.38848      0.39694         74.2\n",
            "   8      0.38670      0.39697\n",
            "Auto-stop. Use model at 7th iteration.\n",
            "logloss = 0.39694\n",
            "logloss = 2.14284\n"
          ],
          "name": "stdout"
        },
        {
          "output_type": "execute_result",
          "data": {
            "text/plain": [
              "(0.39693518276706846, 0.7866357451179696)"
            ]
          },
          "metadata": {
            "tags": []
          },
          "execution_count": 53
        }
      ]
    },
    {
      "cell_type": "code",
      "metadata": {
        "id": "niZp-ZV4HEis",
        "colab_type": "code",
        "colab": {
          "base_uri": "https://localhost:8080/",
          "height": 293
        },
        "outputId": "f6a62074-6625-47d2-c06c-d64d75d1edb2"
      },
      "source": [
        "!./ffm-train -p libffm_val_fold_28.txt -r 0.05 -t 30 -l 0.00002 -k 50 --auto-stop libffm_trn_fold_28.txt libffm_fold_28_model\n",
        "!./ffm-predict libffm_val_fold_28.txt libffm_fold_28_model val_preds_fold_28.txt\n",
        "!./ffm-predict libffm_tst_fold_28.txt libffm_fold_28_model tst_preds_fold_28.txt\n",
        "os.remove('libffm_val_fold_28.txt')\n",
        "os.remove('libffm_trn_fold_28.txt')\n",
        "os.remove('libffm_fold_28_model')\n",
        "os.remove('libffm_tst_fold_28.txt')\n",
        "(\n",
        "    log_loss(train['target'].iloc[fold_ids[27][1]], pd.read_csv('val_preds_fold_28.txt', header=None).values[:,0]),\n",
        "    roc_auc_score(train['target'].iloc[fold_ids[27][1]], pd.read_csv('val_preds_fold_28.txt', header=None).values[:,0])\n",
        ")"
      ],
      "execution_count": 54,
      "outputs": [
        {
          "output_type": "stream",
          "text": [
            "First check if the text file has already been converted to binary format (0.0 seconds)\n",
            "Binary file NOT found. Convert text file to binary file (3.3 seconds)\n",
            "First check if the text file has already been converted to binary format (0.0 seconds)\n",
            "Binary file NOT found. Convert text file to binary file (0.1 seconds)\n",
            "iter   tr_logloss   va_logloss      tr_time\n",
            "   1      0.42491      0.40686         11.3\n",
            "   2      0.40197      0.40242         21.8\n",
            "   3      0.39901      0.40112         32.5\n",
            "   4      0.39622      0.39909         43.3\n",
            "   5      0.39312      0.39804         53.9\n",
            "   6      0.39046      0.39764         64.5\n",
            "   7      0.38843      0.39753         75.1\n",
            "   8      0.38664      0.39787\n",
            "Auto-stop. Use model at 7th iteration.\n",
            "logloss = 0.39753\n",
            "logloss = 2.10405\n"
          ],
          "name": "stdout"
        },
        {
          "output_type": "execute_result",
          "data": {
            "text/plain": [
              "(0.3975303308061942, 0.7848944359593849)"
            ]
          },
          "metadata": {
            "tags": []
          },
          "execution_count": 54
        }
      ]
    },
    {
      "cell_type": "code",
      "metadata": {
        "id": "gUEsLLFkHQAY",
        "colab_type": "code",
        "colab": {
          "base_uri": "https://localhost:8080/",
          "height": 293
        },
        "outputId": "269b6128-c28f-47b7-a6b0-ec13ef8699d3"
      },
      "source": [
        "!./ffm-train -p libffm_val_fold_29.txt -r 0.05 -t 30 -l 0.00002 -k 50 --auto-stop libffm_trn_fold_29.txt libffm_fold_29_model\n",
        "!./ffm-predict libffm_val_fold_29.txt libffm_fold_29_model val_preds_fold_29.txt\n",
        "!./ffm-predict libffm_tst_fold_29.txt libffm_fold_29_model tst_preds_fold_29.txt\n",
        "os.remove('libffm_val_fold_29.txt')\n",
        "os.remove('libffm_trn_fold_29.txt')\n",
        "os.remove('libffm_fold_29_model')\n",
        "os.remove('libffm_tst_fold_29.txt')\n",
        "(\n",
        "    log_loss(train['target'].iloc[fold_ids[28][1]], pd.read_csv('val_preds_fold_29.txt', header=None).values[:,0]),\n",
        "    roc_auc_score(train['target'].iloc[fold_ids[28][1]], pd.read_csv('val_preds_fold_29.txt', header=None).values[:,0])\n",
        ")"
      ],
      "execution_count": 55,
      "outputs": [
        {
          "output_type": "stream",
          "text": [
            "First check if the text file has already been converted to binary format (0.0 seconds)\n",
            "Binary file NOT found. Convert text file to binary file (3.3 seconds)\n",
            "First check if the text file has already been converted to binary format (0.0 seconds)\n",
            "Binary file NOT found. Convert text file to binary file (0.1 seconds)\n",
            "iter   tr_logloss   va_logloss      tr_time\n",
            "   1      0.42493      0.40529         10.6\n",
            "   2      0.40193      0.40223         21.5\n",
            "   3      0.39907      0.40085         32.0\n",
            "   4      0.39633      0.39875         44.0\n",
            "   5      0.39324      0.39709         54.8\n",
            "   6      0.39054      0.39658         65.0\n",
            "   7      0.38846      0.39625         75.8\n",
            "   8      0.38668      0.39625\n",
            "Auto-stop. Use model at 7th iteration.\n",
            "logloss = 0.39625\n",
            "logloss = 2.12092\n"
          ],
          "name": "stdout"
        },
        {
          "output_type": "execute_result",
          "data": {
            "text/plain": [
              "(0.396247598591838, 0.790319740491794)"
            ]
          },
          "metadata": {
            "tags": []
          },
          "execution_count": 55
        }
      ]
    },
    {
      "cell_type": "code",
      "metadata": {
        "id": "H44XOf97Hjt8",
        "colab_type": "code",
        "colab": {
          "base_uri": "https://localhost:8080/",
          "height": 326
        },
        "outputId": "8323fca1-bbe1-4699-8187-fa3b5d9c15e9"
      },
      "source": [
        "!./ffm-train -p libffm_val_fold_30.txt -r 0.05 -t 30 -l 0.00002 -k 50 --auto-stop libffm_trn_fold_30.txt libffm_fold_30_model\n",
        "!./ffm-predict libffm_val_fold_30.txt libffm_fold_30_model val_preds_fold_30.txt\n",
        "!./ffm-predict libffm_tst_fold_30.txt libffm_fold_30_model tst_preds_fold_30.txt\n",
        "os.remove('libffm_val_fold_30.txt')\n",
        "os.remove('libffm_trn_fold_30.txt')\n",
        "os.remove('libffm_fold_30_model')\n",
        "os.remove('libffm_tst_fold_30.txt')\n",
        "(\n",
        "    log_loss(train['target'].iloc[fold_ids[29][1]], pd.read_csv('val_preds_fold_30.txt', header=None).values[:,0]),\n",
        "    roc_auc_score(train['target'].iloc[fold_ids[29][1]], pd.read_csv('val_preds_fold_30.txt', header=None).values[:,0])\n",
        ")"
      ],
      "execution_count": 56,
      "outputs": [
        {
          "output_type": "stream",
          "text": [
            "First check if the text file has already been converted to binary format (0.0 seconds)\n",
            "Binary file NOT found. Convert text file to binary file (3.3 seconds)\n",
            "First check if the text file has already been converted to binary format (0.0 seconds)\n",
            "Binary file NOT found. Convert text file to binary file (0.1 seconds)\n",
            "iter   tr_logloss   va_logloss      tr_time\n",
            "   1      0.42493      0.40434         10.4\n",
            "   2      0.40201      0.39915         21.7\n",
            "   3      0.39917      0.39728         32.0\n",
            "   4      0.39643      0.39494         42.3\n",
            "   5      0.39337      0.39299         52.8\n",
            "   6      0.39071      0.39168         63.4\n",
            "   7      0.38866      0.39137         74.5\n",
            "   8      0.38688      0.39109         85.3\n",
            "   9      0.38507      0.39098         95.8\n",
            "  10      0.38319      0.39133\n",
            "Auto-stop. Use model at 9th iteration.\n",
            "logloss = 0.39098\n",
            "logloss = 2.14618\n"
          ],
          "name": "stdout"
        },
        {
          "output_type": "execute_result",
          "data": {
            "text/plain": [
              "(0.3909782476321878, 0.7947577528094808)"
            ]
          },
          "metadata": {
            "tags": []
          },
          "execution_count": 56
        }
      ]
    },
    {
      "cell_type": "code",
      "metadata": {
        "id": "ebEww6PZH59n",
        "colab_type": "code",
        "colab": {
          "base_uri": "https://localhost:8080/",
          "height": 277
        },
        "outputId": "eb0bf6f8-8b16-4cdc-c6fc-942e3147c192"
      },
      "source": [
        "!./ffm-train -p libffm_val_fold_31.txt -r 0.05 -t 30 -l 0.00002 -k 50 --auto-stop libffm_trn_fold_31.txt libffm_fold_31_model\n",
        "!./ffm-predict libffm_val_fold_31.txt libffm_fold_31_model val_preds_fold_31.txt\n",
        "!./ffm-predict libffm_tst_fold_31.txt libffm_fold_31_model tst_preds_fold_31.txt\n",
        "os.remove('libffm_val_fold_31.txt')\n",
        "os.remove('libffm_trn_fold_31.txt')\n",
        "os.remove('libffm_fold_31_model')\n",
        "os.remove('libffm_tst_fold_31.txt')\n",
        "(\n",
        "    log_loss(train['target'].iloc[fold_ids[30][1]], pd.read_csv('val_preds_fold_31.txt', header=None).values[:,0]),\n",
        "    roc_auc_score(train['target'].iloc[fold_ids[30][1]], pd.read_csv('val_preds_fold_31.txt', header=None).values[:,0])\n",
        ")"
      ],
      "execution_count": 57,
      "outputs": [
        {
          "output_type": "stream",
          "text": [
            "First check if the text file has already been converted to binary format (0.0 seconds)\n",
            "Binary file NOT found. Convert text file to binary file (3.4 seconds)\n",
            "First check if the text file has already been converted to binary format (0.0 seconds)\n",
            "Binary file NOT found. Convert text file to binary file (0.1 seconds)\n",
            "iter   tr_logloss   va_logloss      tr_time\n",
            "   1      0.42477      0.40455         10.5\n",
            "   2      0.40192      0.40142         21.5\n",
            "   3      0.39891      0.40017         32.3\n",
            "   4      0.39603      0.39873         42.7\n",
            "   5      0.39293      0.39768         53.6\n",
            "   6      0.39034      0.39742         64.7\n",
            "   7      0.38834      0.39744\n",
            "Auto-stop. Use model at 6th iteration.\n",
            "logloss = 0.39742\n",
            "logloss = 2.10789\n"
          ],
          "name": "stdout"
        },
        {
          "output_type": "execute_result",
          "data": {
            "text/plain": [
              "(0.397417294308011, 0.7849208334148985)"
            ]
          },
          "metadata": {
            "tags": []
          },
          "execution_count": 57
        }
      ]
    },
    {
      "cell_type": "code",
      "metadata": {
        "id": "_QUruMbGH6Ww",
        "colab_type": "code",
        "colab": {
          "base_uri": "https://localhost:8080/",
          "height": 293
        },
        "outputId": "1f215fe2-d5e1-424b-9a2e-377613d79bfc"
      },
      "source": [
        "!./ffm-train -p libffm_val_fold_32.txt -r 0.05 -t 30 -l 0.00002 -k 50 --auto-stop libffm_trn_fold_32.txt libffm_fold_32_model\n",
        "!./ffm-predict libffm_val_fold_32.txt libffm_fold_32_model val_preds_fold_32.txt\n",
        "!./ffm-predict libffm_tst_fold_32.txt libffm_fold_32_model tst_preds_fold_32.txt\n",
        "os.remove('libffm_val_fold_32.txt')\n",
        "os.remove('libffm_trn_fold_32.txt')\n",
        "os.remove('libffm_fold_32_model')\n",
        "os.remove('libffm_tst_fold_32.txt')\n",
        "(\n",
        "    log_loss(train['target'].iloc[fold_ids[31][1]], pd.read_csv('val_preds_fold_32.txt', header=None).values[:,0]),\n",
        "    roc_auc_score(train['target'].iloc[fold_ids[31][1]], pd.read_csv('val_preds_fold_32.txt', header=None).values[:,0])\n",
        ")"
      ],
      "execution_count": 58,
      "outputs": [
        {
          "output_type": "stream",
          "text": [
            "First check if the text file has already been converted to binary format (0.0 seconds)\n",
            "Binary file NOT found. Convert text file to binary file (3.3 seconds)\n",
            "First check if the text file has already been converted to binary format (0.0 seconds)\n",
            "Binary file NOT found. Convert text file to binary file (0.1 seconds)\n",
            "iter   tr_logloss   va_logloss      tr_time\n",
            "   1      0.42528      0.40252         10.5\n",
            "   2      0.40205      0.39819         20.9\n",
            "   3      0.39907      0.39670         31.2\n",
            "   4      0.39628      0.39537         42.1\n",
            "   5      0.39319      0.39327         53.6\n",
            "   6      0.39055      0.39258         64.2\n",
            "   7      0.38852      0.39220         75.5\n",
            "   8      0.38673      0.39230\n",
            "Auto-stop. Use model at 7th iteration.\n",
            "logloss = 0.39220\n",
            "logloss = 2.11631\n"
          ],
          "name": "stdout"
        },
        {
          "output_type": "execute_result",
          "data": {
            "text/plain": [
              "(0.3921993695128287, 0.7947568401921772)"
            ]
          },
          "metadata": {
            "tags": []
          },
          "execution_count": 58
        }
      ]
    },
    {
      "cell_type": "code",
      "metadata": {
        "id": "tVm3w6o8IC7I",
        "colab_type": "code",
        "colab": {
          "base_uri": "https://localhost:8080/",
          "height": 293
        },
        "outputId": "0c690bed-d43a-4a04-c26d-9622a78fa22b"
      },
      "source": [
        "!./ffm-train -p libffm_val_fold_33.txt -r 0.05 -t 30 -l 0.00002 -k 50 --auto-stop libffm_trn_fold_33.txt libffm_fold_33_model\n",
        "!./ffm-predict libffm_val_fold_33.txt libffm_fold_33_model val_preds_fold_33.txt\n",
        "!./ffm-predict libffm_tst_fold_33.txt libffm_fold_33_model tst_preds_fold_33.txt\n",
        "os.remove('libffm_val_fold_33.txt')\n",
        "os.remove('libffm_trn_fold_33.txt')\n",
        "os.remove('libffm_fold_33_model')\n",
        "os.remove('libffm_tst_fold_33.txt')\n",
        "(\n",
        "    log_loss(train['target'].iloc[fold_ids[32][1]], pd.read_csv('val_preds_fold_33.txt', header=None).values[:,0]),\n",
        "    roc_auc_score(train['target'].iloc[fold_ids[32][1]], pd.read_csv('val_preds_fold_33.txt', header=None).values[:,0])\n",
        ")"
      ],
      "execution_count": 59,
      "outputs": [
        {
          "output_type": "stream",
          "text": [
            "First check if the text file has already been converted to binary format (0.0 seconds)\n",
            "Binary file NOT found. Convert text file to binary file (3.4 seconds)\n",
            "First check if the text file has already been converted to binary format (0.0 seconds)\n",
            "Binary file NOT found. Convert text file to binary file (0.1 seconds)\n",
            "iter   tr_logloss   va_logloss      tr_time\n",
            "   1      0.42501      0.40414         11.3\n",
            "   2      0.40199      0.39965         22.1\n",
            "   3      0.39907      0.39810         32.6\n",
            "   4      0.39628      0.39615         43.3\n",
            "   5      0.39323      0.39449         54.0\n",
            "   6      0.39054      0.39359         65.0\n",
            "   7      0.38852      0.39345         76.2\n",
            "   8      0.38674      0.39357\n",
            "Auto-stop. Use model at 7th iteration.\n",
            "logloss = 0.39345\n",
            "logloss = 2.10793\n"
          ],
          "name": "stdout"
        },
        {
          "output_type": "execute_result",
          "data": {
            "text/plain": [
              "(0.3934498493006563, 0.7925402296537563)"
            ]
          },
          "metadata": {
            "tags": []
          },
          "execution_count": 59
        }
      ]
    },
    {
      "cell_type": "code",
      "metadata": {
        "id": "UBkEikydIKe8",
        "colab_type": "code",
        "colab": {
          "base_uri": "https://localhost:8080/",
          "height": 293
        },
        "outputId": "9c063c57-7c01-480f-d4e4-c6a42bb26eea"
      },
      "source": [
        "!./ffm-train -p libffm_val_fold_34.txt -r 0.05 -t 30 -l 0.00002 -k 50 --auto-stop libffm_trn_fold_34.txt libffm_fold_34_model\n",
        "!./ffm-predict libffm_val_fold_34.txt libffm_fold_34_model val_preds_fold_34.txt\n",
        "!./ffm-predict libffm_tst_fold_34.txt libffm_fold_34_model tst_preds_fold_34.txt\n",
        "os.remove('libffm_val_fold_34.txt')\n",
        "os.remove('libffm_trn_fold_34.txt')\n",
        "os.remove('libffm_fold_34_model')\n",
        "os.remove('libffm_tst_fold_34.txt')\n",
        "(\n",
        "    log_loss(train['target'].iloc[fold_ids[33][1]], pd.read_csv('val_preds_fold_34.txt', header=None).values[:,0]),\n",
        "    roc_auc_score(train['target'].iloc[fold_ids[33][1]], pd.read_csv('val_preds_fold_34.txt', header=None).values[:,0])\n",
        ")"
      ],
      "execution_count": 60,
      "outputs": [
        {
          "output_type": "stream",
          "text": [
            "First check if the text file has already been converted to binary format (0.0 seconds)\n",
            "Binary file NOT found. Convert text file to binary file (3.5 seconds)\n",
            "First check if the text file has already been converted to binary format (0.0 seconds)\n",
            "Binary file NOT found. Convert text file to binary file (0.1 seconds)\n",
            "iter   tr_logloss   va_logloss      tr_time\n",
            "   1      0.42465      0.40861         10.6\n",
            "   2      0.40182      0.40566         21.4\n",
            "   3      0.39893      0.40438         32.4\n",
            "   4      0.39615      0.40208         43.0\n",
            "   5      0.39308      0.40094         54.5\n",
            "   6      0.39044      0.40051         65.3\n",
            "   7      0.38840      0.40034         75.9\n",
            "   8      0.38663      0.40038\n",
            "Auto-stop. Use model at 7th iteration.\n",
            "logloss = 0.40034\n",
            "logloss = 2.13094\n"
          ],
          "name": "stdout"
        },
        {
          "output_type": "execute_result",
          "data": {
            "text/plain": [
              "(0.40033536513398954, 0.78177207556234)"
            ]
          },
          "metadata": {
            "tags": []
          },
          "execution_count": 60
        }
      ]
    },
    {
      "cell_type": "code",
      "metadata": {
        "id": "T6ZTrPw8IRuU",
        "colab_type": "code",
        "colab": {
          "base_uri": "https://localhost:8080/",
          "height": 277
        },
        "outputId": "32935998-2443-4863-ef9f-77d131a0f2dd"
      },
      "source": [
        "!./ffm-train -p libffm_val_fold_35.txt -r 0.05 -t 30 -l 0.00002 -k 50 --auto-stop libffm_trn_fold_35.txt libffm_fold_35_model\n",
        "!./ffm-predict libffm_val_fold_35.txt libffm_fold_35_model val_preds_fold_35.txt\n",
        "!./ffm-predict libffm_tst_fold_35.txt libffm_fold_35_model tst_preds_fold_35.txt\n",
        "os.remove('libffm_val_fold_35.txt')\n",
        "os.remove('libffm_trn_fold_35.txt')\n",
        "os.remove('libffm_fold_35_model')\n",
        "os.remove('libffm_tst_fold_35.txt')\n",
        "(\n",
        "    log_loss(train['target'].iloc[fold_ids[34][1]], pd.read_csv('val_preds_fold_35.txt', header=None).values[:,0]),\n",
        "    roc_auc_score(train['target'].iloc[fold_ids[34][1]], pd.read_csv('val_preds_fold_35.txt', header=None).values[:,0])\n",
        ")"
      ],
      "execution_count": 61,
      "outputs": [
        {
          "output_type": "stream",
          "text": [
            "First check if the text file has already been converted to binary format (0.0 seconds)\n",
            "Binary file NOT found. Convert text file to binary file (3.3 seconds)\n",
            "First check if the text file has already been converted to binary format (0.0 seconds)\n",
            "Binary file NOT found. Convert text file to binary file (0.1 seconds)\n",
            "iter   tr_logloss   va_logloss      tr_time\n",
            "   1      0.42499      0.40434         10.8\n",
            "   2      0.40199      0.40047         21.5\n",
            "   3      0.39907      0.39936         32.0\n",
            "   4      0.39633      0.39750         42.5\n",
            "   5      0.39321      0.39674         52.8\n",
            "   6      0.39051      0.39636         63.3\n",
            "   7      0.38846      0.39651\n",
            "Auto-stop. Use model at 6th iteration.\n",
            "logloss = 0.39636\n",
            "logloss = 2.09853\n"
          ],
          "name": "stdout"
        },
        {
          "output_type": "execute_result",
          "data": {
            "text/plain": [
              "(0.3963561605041021, 0.7903640708773279)"
            ]
          },
          "metadata": {
            "tags": []
          },
          "execution_count": 61
        }
      ]
    },
    {
      "cell_type": "code",
      "metadata": {
        "id": "ZxFPn7UZIXqb",
        "colab_type": "code",
        "colab": {
          "base_uri": "https://localhost:8080/",
          "height": 310
        },
        "outputId": "94f7bc30-f379-478b-a34b-92cb945f0c78"
      },
      "source": [
        "!./ffm-train -p libffm_val_fold_36.txt -r 0.05 -t 30 -l 0.00002 -k 50 --auto-stop libffm_trn_fold_36.txt libffm_fold_36_model\n",
        "!./ffm-predict libffm_val_fold_36.txt libffm_fold_36_model val_preds_fold_36.txt\n",
        "!./ffm-predict libffm_tst_fold_36.txt libffm_fold_36_model tst_preds_fold_36.txt\n",
        "os.remove('libffm_val_fold_36.txt')\n",
        "os.remove('libffm_trn_fold_36.txt')\n",
        "os.remove('libffm_fold_36_model')\n",
        "os.remove('libffm_tst_fold_36.txt')\n",
        "(\n",
        "    log_loss(train['target'].iloc[fold_ids[35][1]], pd.read_csv('val_preds_fold_36.txt', header=None).values[:,0]),\n",
        "    roc_auc_score(train['target'].iloc[fold_ids[35][1]], pd.read_csv('val_preds_fold_36.txt', header=None).values[:,0])\n",
        ")"
      ],
      "execution_count": 62,
      "outputs": [
        {
          "output_type": "stream",
          "text": [
            "First check if the text file has already been converted to binary format (0.0 seconds)\n",
            "Binary file NOT found. Convert text file to binary file (3.3 seconds)\n",
            "First check if the text file has already been converted to binary format (0.0 seconds)\n",
            "Binary file NOT found. Convert text file to binary file (0.1 seconds)\n",
            "iter   tr_logloss   va_logloss      tr_time\n",
            "   1      0.42483      0.40926         11.4\n",
            "   2      0.40190      0.40482         22.7\n",
            "   3      0.39898      0.40309         34.2\n",
            "   4      0.39620      0.40127         45.0\n",
            "   5      0.39310      0.39974         56.1\n",
            "   6      0.39045      0.39893         66.6\n",
            "   7      0.38841      0.39887         77.1\n",
            "   8      0.38663      0.39885         88.4\n",
            "   9      0.38482      0.39900\n",
            "Auto-stop. Use model at 8th iteration.\n",
            "logloss = 0.39885\n",
            "logloss = 2.13375\n"
          ],
          "name": "stdout"
        },
        {
          "output_type": "execute_result",
          "data": {
            "text/plain": [
              "(0.3988527040583445, 0.7862426683177739)"
            ]
          },
          "metadata": {
            "tags": []
          },
          "execution_count": 62
        }
      ]
    },
    {
      "cell_type": "code",
      "metadata": {
        "id": "1hu5hyFjIgIV",
        "colab_type": "code",
        "colab": {
          "base_uri": "https://localhost:8080/",
          "height": 293
        },
        "outputId": "453db653-8956-415b-829f-f78429273e66"
      },
      "source": [
        "!./ffm-train -p libffm_val_fold_37.txt -r 0.05 -t 30 -l 0.00002 -k 50 --auto-stop libffm_trn_fold_37.txt libffm_fold_37_model\n",
        "!./ffm-predict libffm_val_fold_37.txt libffm_fold_37_model val_preds_fold_37.txt\n",
        "!./ffm-predict libffm_tst_fold_37.txt libffm_fold_37_model tst_preds_fold_37.txt\n",
        "os.remove('libffm_val_fold_37.txt')\n",
        "os.remove('libffm_trn_fold_37.txt')\n",
        "os.remove('libffm_fold_37_model')\n",
        "os.remove('libffm_tst_fold_37.txt')\n",
        "(\n",
        "    log_loss(train['target'].iloc[fold_ids[36][1]], pd.read_csv('val_preds_fold_37.txt', header=None).values[:,0]),\n",
        "    roc_auc_score(train['target'].iloc[fold_ids[36][1]], pd.read_csv('val_preds_fold_37.txt', header=None).values[:,0])\n",
        ")"
      ],
      "execution_count": 63,
      "outputs": [
        {
          "output_type": "stream",
          "text": [
            "First check if the text file has already been converted to binary format (0.0 seconds)\n",
            "Binary file NOT found. Convert text file to binary file (3.4 seconds)\n",
            "First check if the text file has already been converted to binary format (0.0 seconds)\n",
            "Binary file NOT found. Convert text file to binary file (0.1 seconds)\n",
            "iter   tr_logloss   va_logloss      tr_time\n",
            "   1      0.42485      0.40723         11.0\n",
            "   2      0.40187      0.40313         21.3\n",
            "   3      0.39896      0.40179         32.5\n",
            "   4      0.39621      0.40070         43.2\n",
            "   5      0.39310      0.39933         53.9\n",
            "   6      0.39045      0.39896         64.4\n",
            "   7      0.38841      0.39884         75.2\n",
            "   8      0.38662      0.39893\n",
            "Auto-stop. Use model at 7th iteration.\n",
            "logloss = 0.39884\n",
            "logloss = 2.10119\n"
          ],
          "name": "stdout"
        },
        {
          "output_type": "execute_result",
          "data": {
            "text/plain": [
              "(0.39884245893541176, 0.7823307570603155)"
            ]
          },
          "metadata": {
            "tags": []
          },
          "execution_count": 63
        }
      ]
    },
    {
      "cell_type": "code",
      "metadata": {
        "id": "r7j2R9e8Iqn1",
        "colab_type": "code",
        "colab": {
          "base_uri": "https://localhost:8080/",
          "height": 310
        },
        "outputId": "f7a72d5f-8700-4dc1-edbd-aafab950b497"
      },
      "source": [
        "!./ffm-train -p libffm_val_fold_38.txt -r 0.05 -t 30 -l 0.00002 -k 50 --auto-stop libffm_trn_fold_38.txt libffm_fold_38_model\n",
        "!./ffm-predict libffm_val_fold_38.txt libffm_fold_38_model val_preds_fold_38.txt\n",
        "!./ffm-predict libffm_tst_fold_38.txt libffm_fold_38_model tst_preds_fold_38.txt\n",
        "os.remove('libffm_val_fold_38.txt')\n",
        "os.remove('libffm_trn_fold_38.txt')\n",
        "os.remove('libffm_fold_38_model')\n",
        "os.remove('libffm_tst_fold_38.txt')\n",
        "(\n",
        "    log_loss(train['target'].iloc[fold_ids[37][1]], pd.read_csv('val_preds_fold_38.txt', header=None).values[:,0]),\n",
        "    roc_auc_score(train['target'].iloc[fold_ids[37][1]], pd.read_csv('val_preds_fold_38.txt', header=None).values[:,0])\n",
        ")"
      ],
      "execution_count": 64,
      "outputs": [
        {
          "output_type": "stream",
          "text": [
            "First check if the text file has already been converted to binary format (0.0 seconds)\n",
            "Binary file NOT found. Convert text file to binary file (3.3 seconds)\n",
            "First check if the text file has already been converted to binary format (0.0 seconds)\n",
            "Binary file NOT found. Convert text file to binary file (0.1 seconds)\n",
            "iter   tr_logloss   va_logloss      tr_time\n",
            "   1      0.42504      0.39992         10.8\n",
            "   2      0.40212      0.39602         21.4\n",
            "   3      0.39916      0.39464         32.5\n",
            "   4      0.39644      0.39282         43.4\n",
            "   5      0.39334      0.39142         54.5\n",
            "   6      0.39067      0.39065         65.4\n",
            "   7      0.38861      0.39036         77.1\n",
            "   8      0.38683      0.39024         87.9\n",
            "   9      0.38499      0.39028\n",
            "Auto-stop. Use model at 8th iteration.\n",
            "logloss = 0.39024\n",
            "logloss = 2.11318\n"
          ],
          "name": "stdout"
        },
        {
          "output_type": "execute_result",
          "data": {
            "text/plain": [
              "(0.3902365280922118, 0.7975807519154354)"
            ]
          },
          "metadata": {
            "tags": []
          },
          "execution_count": 64
        }
      ]
    },
    {
      "cell_type": "code",
      "metadata": {
        "id": "DTn4jRpnIx5f",
        "colab_type": "code",
        "colab": {
          "base_uri": "https://localhost:8080/",
          "height": 310
        },
        "outputId": "6f5e0302-994b-435e-9f25-9380861afff1"
      },
      "source": [
        "!./ffm-train -p libffm_val_fold_39.txt -r 0.05 -t 30 -l 0.00002 -k 50 --auto-stop libffm_trn_fold_39.txt libffm_fold_39_model\n",
        "!./ffm-predict libffm_val_fold_39.txt libffm_fold_39_model val_preds_fold_39.txt\n",
        "!./ffm-predict libffm_tst_fold_39.txt libffm_fold_39_model tst_preds_fold_39.txt\n",
        "os.remove('libffm_val_fold_39.txt')\n",
        "os.remove('libffm_trn_fold_39.txt')\n",
        "os.remove('libffm_fold_39_model')\n",
        "os.remove('libffm_tst_fold_39.txt')\n",
        "(\n",
        "    log_loss(train['target'].iloc[fold_ids[38][1]], pd.read_csv('val_preds_fold_39.txt', header=None).values[:,0]),\n",
        "    roc_auc_score(train['target'].iloc[fold_ids[38][1]], pd.read_csv('val_preds_fold_39.txt', header=None).values[:,0])\n",
        ")"
      ],
      "execution_count": 65,
      "outputs": [
        {
          "output_type": "stream",
          "text": [
            "First check if the text file has already been converted to binary format (0.0 seconds)\n",
            "Binary file NOT found. Convert text file to binary file (3.3 seconds)\n",
            "First check if the text file has already been converted to binary format (0.0 seconds)\n",
            "Binary file NOT found. Convert text file to binary file (0.1 seconds)\n",
            "iter   tr_logloss   va_logloss      tr_time\n",
            "   1      0.42485      0.40873         11.1\n",
            "   2      0.40192      0.40414         22.5\n",
            "   3      0.39895      0.40203         33.4\n",
            "   4      0.39613      0.39976         44.8\n",
            "   5      0.39304      0.39849         56.9\n",
            "   6      0.39043      0.39745         68.0\n",
            "   7      0.38843      0.39702         79.1\n",
            "   8      0.38666      0.39687         92.1\n",
            "   9      0.38485      0.39710\n",
            "Auto-stop. Use model at 8th iteration.\n",
            "logloss = 0.39687\n",
            "logloss = 2.11892\n"
          ],
          "name": "stdout"
        },
        {
          "output_type": "execute_result",
          "data": {
            "text/plain": [
              "(0.39686901347646925, 0.7865741765533922)"
            ]
          },
          "metadata": {
            "tags": []
          },
          "execution_count": 65
        }
      ]
    },
    {
      "cell_type": "code",
      "metadata": {
        "id": "MC6geiz9I5uB",
        "colab_type": "code",
        "colab": {
          "base_uri": "https://localhost:8080/",
          "height": 310
        },
        "outputId": "63060cd4-c48a-442d-b872-5f705951c72b"
      },
      "source": [
        "!./ffm-train -p libffm_val_fold_40.txt -r 0.05 -t 30 -l 0.00002 -k 50 --auto-stop libffm_trn_fold_40.txt libffm_fold_40_model\n",
        "!./ffm-predict libffm_val_fold_40.txt libffm_fold_40_model val_preds_fold_40.txt\n",
        "!./ffm-predict libffm_tst_fold_40.txt libffm_fold_40_model tst_preds_fold_40.txt\n",
        "os.remove('libffm_val_fold_40.txt')\n",
        "os.remove('libffm_trn_fold_40.txt')\n",
        "os.remove('libffm_fold_40_model')\n",
        "os.remove('libffm_tst_fold_40.txt')\n",
        "(\n",
        "    log_loss(train['target'].iloc[fold_ids[39][1]], pd.read_csv('val_preds_fold_40.txt', header=None).values[:,0]),\n",
        "    roc_auc_score(train['target'].iloc[fold_ids[39][1]], pd.read_csv('val_preds_fold_40.txt', header=None).values[:,0])\n",
        ")"
      ],
      "execution_count": 66,
      "outputs": [
        {
          "output_type": "stream",
          "text": [
            "First check if the text file has already been converted to binary format (0.0 seconds)\n",
            "Binary file NOT found. Convert text file to binary file (3.3 seconds)\n",
            "First check if the text file has already been converted to binary format (0.0 seconds)\n",
            "Binary file NOT found. Convert text file to binary file (0.1 seconds)\n",
            "iter   tr_logloss   va_logloss      tr_time\n",
            "   1      0.42486      0.40840         10.4\n",
            "   2      0.40191      0.40364         21.5\n",
            "   3      0.39899      0.40219         31.9\n",
            "   4      0.39621      0.40013         42.4\n",
            "   5      0.39314      0.39849         53.8\n",
            "   6      0.39049      0.39754         65.5\n",
            "   7      0.38843      0.39714         75.7\n",
            "   8      0.38663      0.39711         85.9\n",
            "   9      0.38483      0.39715\n",
            "Auto-stop. Use model at 8th iteration.\n",
            "logloss = 0.39711\n",
            "logloss = 2.10779\n"
          ],
          "name": "stdout"
        },
        {
          "output_type": "execute_result",
          "data": {
            "text/plain": [
              "(0.3971086870021054, 0.786919990065248)"
            ]
          },
          "metadata": {
            "tags": []
          },
          "execution_count": 66
        }
      ]
    },
    {
      "cell_type": "code",
      "metadata": {
        "id": "qjmuLXIgI_Sl",
        "colab_type": "code",
        "colab": {
          "base_uri": "https://localhost:8080/",
          "height": 277
        },
        "outputId": "39c3328d-d846-4cce-f72e-1f08db6dcced"
      },
      "source": [
        "!./ffm-train -p libffm_val_fold_41.txt -r 0.05 -t 30 -l 0.00002 -k 50 --auto-stop libffm_trn_fold_41.txt libffm_fold_41_model\n",
        "!./ffm-predict libffm_val_fold_41.txt libffm_fold_41_model val_preds_fold_41.txt\n",
        "!./ffm-predict libffm_tst_fold_41.txt libffm_fold_41_model tst_preds_fold_41.txt\n",
        "os.remove('libffm_val_fold_41.txt')\n",
        "os.remove('libffm_trn_fold_41.txt')\n",
        "os.remove('libffm_fold_41_model')\n",
        "os.remove('libffm_tst_fold_41.txt')\n",
        "(\n",
        "    log_loss(train['target'].iloc[fold_ids[40][1]], pd.read_csv('val_preds_fold_41.txt', header=None).values[:,0]),\n",
        "    roc_auc_score(train['target'].iloc[fold_ids[40][1]], pd.read_csv('val_preds_fold_41.txt', header=None).values[:,0])\n",
        ")"
      ],
      "execution_count": 67,
      "outputs": [
        {
          "output_type": "stream",
          "text": [
            "First check if the text file has already been converted to binary format (0.0 seconds)\n",
            "Binary file NOT found. Convert text file to binary file (3.3 seconds)\n",
            "First check if the text file has already been converted to binary format (0.0 seconds)\n",
            "Binary file NOT found. Convert text file to binary file (0.1 seconds)\n",
            "iter   tr_logloss   va_logloss      tr_time\n",
            "   1      0.42505      0.40363         11.1\n",
            "   2      0.40198      0.39996         22.8\n",
            "   3      0.39904      0.39908         34.2\n",
            "   4      0.39624      0.39751         45.1\n",
            "   5      0.39314      0.39654         55.8\n",
            "   6      0.39051      0.39640         66.7\n",
            "   7      0.38848      0.39650\n",
            "Auto-stop. Use model at 6th iteration.\n",
            "logloss = 0.39640\n",
            "logloss = 2.08176\n"
          ],
          "name": "stdout"
        },
        {
          "output_type": "execute_result",
          "data": {
            "text/plain": [
              "(0.3964006068676127, 0.7893693636470122)"
            ]
          },
          "metadata": {
            "tags": []
          },
          "execution_count": 67
        }
      ]
    },
    {
      "cell_type": "code",
      "metadata": {
        "id": "JnbQ8G2JJGgW",
        "colab_type": "code",
        "colab": {
          "base_uri": "https://localhost:8080/",
          "height": 310
        },
        "outputId": "f4c321f1-3b7d-4b88-f9b4-9de60c68d5cb"
      },
      "source": [
        "!./ffm-train -p libffm_val_fold_42.txt -r 0.05 -t 30 -l 0.00002 -k 50 --auto-stop libffm_trn_fold_42.txt libffm_fold_42_model\n",
        "!./ffm-predict libffm_val_fold_42.txt libffm_fold_42_model val_preds_fold_42.txt\n",
        "!./ffm-predict libffm_tst_fold_42.txt libffm_fold_42_model tst_preds_fold_42.txt\n",
        "os.remove('libffm_val_fold_42.txt')\n",
        "os.remove('libffm_trn_fold_42.txt')\n",
        "os.remove('libffm_fold_42_model')\n",
        "os.remove('libffm_tst_fold_42.txt')\n",
        "(\n",
        "    log_loss(train['target'].iloc[fold_ids[41][1]], pd.read_csv('val_preds_fold_42.txt', header=None).values[:,0]),\n",
        "    roc_auc_score(train['target'].iloc[fold_ids[41][1]], pd.read_csv('val_preds_fold_42.txt', header=None).values[:,0])\n",
        ")"
      ],
      "execution_count": 68,
      "outputs": [
        {
          "output_type": "stream",
          "text": [
            "First check if the text file has already been converted to binary format (0.0 seconds)\n",
            "Binary file NOT found. Convert text file to binary file (3.3 seconds)\n",
            "First check if the text file has already been converted to binary format (0.0 seconds)\n",
            "Binary file NOT found. Convert text file to binary file (0.1 seconds)\n",
            "iter   tr_logloss   va_logloss      tr_time\n",
            "   1      0.42488      0.40779         10.7\n",
            "   2      0.40193      0.40311         21.7\n",
            "   3      0.39902      0.40150         32.7\n",
            "   4      0.39625      0.39993         43.9\n",
            "   5      0.39319      0.39820         54.8\n",
            "   6      0.39052      0.39716         65.7\n",
            "   7      0.38846      0.39694         76.8\n",
            "   8      0.38669      0.39666         87.8\n",
            "   9      0.38488      0.39685\n",
            "Auto-stop. Use model at 8th iteration.\n",
            "logloss = 0.39666\n",
            "logloss = 2.11479\n"
          ],
          "name": "stdout"
        },
        {
          "output_type": "execute_result",
          "data": {
            "text/plain": [
              "(0.39665865008409834, 0.7867350025377605)"
            ]
          },
          "metadata": {
            "tags": []
          },
          "execution_count": 68
        }
      ]
    },
    {
      "cell_type": "code",
      "metadata": {
        "id": "YeidtAQMJMum",
        "colab_type": "code",
        "colab": {
          "base_uri": "https://localhost:8080/",
          "height": 293
        },
        "outputId": "a595b503-5acd-4c37-c132-bed41fa08499"
      },
      "source": [
        "!./ffm-train -p libffm_val_fold_43.txt -r 0.05 -t 30 -l 0.00002 -k 50 --auto-stop libffm_trn_fold_43.txt libffm_fold_43_model\n",
        "!./ffm-predict libffm_val_fold_43.txt libffm_fold_43_model val_preds_fold_43.txt\n",
        "!./ffm-predict libffm_tst_fold_43.txt libffm_fold_43_model tst_preds_fold_43.txt\n",
        "os.remove('libffm_val_fold_43.txt')\n",
        "os.remove('libffm_trn_fold_43.txt')\n",
        "os.remove('libffm_fold_43_model')\n",
        "os.remove('libffm_tst_fold_43.txt')\n",
        "(\n",
        "    log_loss(train['target'].iloc[fold_ids[42][1]], pd.read_csv('val_preds_fold_43.txt', header=None).values[:,0]),\n",
        "    roc_auc_score(train['target'].iloc[fold_ids[42][1]], pd.read_csv('val_preds_fold_43.txt', header=None).values[:,0])\n",
        ")"
      ],
      "execution_count": 69,
      "outputs": [
        {
          "output_type": "stream",
          "text": [
            "First check if the text file has already been converted to binary format (0.0 seconds)\n",
            "Binary file NOT found. Convert text file to binary file (3.3 seconds)\n",
            "First check if the text file has already been converted to binary format (0.0 seconds)\n",
            "Binary file NOT found. Convert text file to binary file (0.1 seconds)\n",
            "iter   tr_logloss   va_logloss      tr_time\n",
            "   1      0.42491      0.40488         10.6\n",
            "   2      0.40196      0.40043         21.6\n",
            "   3      0.39908      0.39911         32.4\n",
            "   4      0.39635      0.39686         43.0\n",
            "   5      0.39324      0.39623         54.6\n",
            "   6      0.39053      0.39581         65.4\n",
            "   7      0.38848      0.39580         76.2\n",
            "   8      0.38667      0.39588\n",
            "Auto-stop. Use model at 7th iteration.\n",
            "logloss = 0.39580\n",
            "logloss = 2.11630\n"
          ],
          "name": "stdout"
        },
        {
          "output_type": "execute_result",
          "data": {
            "text/plain": [
              "(0.39579768313411084, 0.7880595752925473)"
            ]
          },
          "metadata": {
            "tags": []
          },
          "execution_count": 69
        }
      ]
    },
    {
      "cell_type": "code",
      "metadata": {
        "id": "1UUBGVfBJR29",
        "colab_type": "code",
        "colab": {
          "base_uri": "https://localhost:8080/",
          "height": 293
        },
        "outputId": "2d2b5986-aaa7-4861-9e45-2291eb03a9c1"
      },
      "source": [
        "!./ffm-train -p libffm_val_fold_44.txt -r 0.05 -t 30 -l 0.00002 -k 50 --auto-stop libffm_trn_fold_44.txt libffm_fold_44_model\n",
        "!./ffm-predict libffm_val_fold_44.txt libffm_fold_44_model val_preds_fold_44.txt\n",
        "!./ffm-predict libffm_tst_fold_44.txt libffm_fold_44_model tst_preds_fold_44.txt\n",
        "os.remove('libffm_val_fold_44.txt')\n",
        "os.remove('libffm_trn_fold_44.txt')\n",
        "os.remove('libffm_fold_44_model')\n",
        "os.remove('libffm_tst_fold_44.txt')\n",
        "(\n",
        "    log_loss(train['target'].iloc[fold_ids[43][1]], pd.read_csv('val_preds_fold_44.txt', header=None).values[:,0]),\n",
        "    roc_auc_score(train['target'].iloc[fold_ids[43][1]], pd.read_csv('val_preds_fold_44.txt', header=None).values[:,0])\n",
        ")"
      ],
      "execution_count": 70,
      "outputs": [
        {
          "output_type": "stream",
          "text": [
            "First check if the text file has already been converted to binary format (0.0 seconds)\n",
            "Binary file NOT found. Convert text file to binary file (3.4 seconds)\n",
            "First check if the text file has already been converted to binary format (0.0 seconds)\n",
            "Binary file NOT found. Convert text file to binary file (0.1 seconds)\n",
            "iter   tr_logloss   va_logloss      tr_time\n",
            "   1      0.42484      0.40892         10.8\n",
            "   2      0.40185      0.40566         21.5\n",
            "   3      0.39895      0.40406         32.1\n",
            "   4      0.39615      0.40256         43.1\n",
            "   5      0.39306      0.40084         53.6\n",
            "   6      0.39040      0.40051         64.3\n",
            "   7      0.38837      0.40042         75.0\n",
            "   8      0.38662      0.40042\n",
            "Auto-stop. Use model at 7th iteration.\n",
            "logloss = 0.40042\n",
            "logloss = 2.13223\n"
          ],
          "name": "stdout"
        },
        {
          "output_type": "execute_result",
          "data": {
            "text/plain": [
              "(0.4004157297164147, 0.780101985896321)"
            ]
          },
          "metadata": {
            "tags": []
          },
          "execution_count": 70
        }
      ]
    },
    {
      "cell_type": "code",
      "metadata": {
        "id": "8LgHm4IOJWzV",
        "colab_type": "code",
        "colab": {
          "base_uri": "https://localhost:8080/",
          "height": 277
        },
        "outputId": "3bbced8a-623a-4a86-d325-160d349dcb18"
      },
      "source": [
        "!./ffm-train -p libffm_val_fold_45.txt -r 0.05 -t 30 -l 0.00002 -k 50 --auto-stop libffm_trn_fold_45.txt libffm_fold_45_model\n",
        "!./ffm-predict libffm_val_fold_45.txt libffm_fold_45_model val_preds_fold_45.txt\n",
        "!./ffm-predict libffm_tst_fold_45.txt libffm_fold_45_model tst_preds_fold_45.txt\n",
        "os.remove('libffm_val_fold_45.txt')\n",
        "os.remove('libffm_trn_fold_45.txt')\n",
        "os.remove('libffm_fold_45_model')\n",
        "os.remove('libffm_tst_fold_45.txt')\n",
        "(\n",
        "    log_loss(train['target'].iloc[fold_ids[44][1]], pd.read_csv('val_preds_fold_45.txt', header=None).values[:,0]),\n",
        "    roc_auc_score(train['target'].iloc[fold_ids[44][1]], pd.read_csv('val_preds_fold_45.txt', header=None).values[:,0])\n",
        ")"
      ],
      "execution_count": 71,
      "outputs": [
        {
          "output_type": "stream",
          "text": [
            "First check if the text file has already been converted to binary format (0.0 seconds)\n",
            "Binary file NOT found. Convert text file to binary file (3.3 seconds)\n",
            "First check if the text file has already been converted to binary format (0.0 seconds)\n",
            "Binary file NOT found. Convert text file to binary file (0.1 seconds)\n",
            "iter   tr_logloss   va_logloss      tr_time\n",
            "   1      0.42476      0.40767         11.2\n",
            "   2      0.40186      0.40337         22.3\n",
            "   3      0.39889      0.40182         32.8\n",
            "   4      0.39600      0.40030         44.2\n",
            "   5      0.39293      0.39907         55.7\n",
            "   6      0.39034      0.39869         67.5\n",
            "   7      0.38835      0.39881\n",
            "Auto-stop. Use model at 6th iteration.\n",
            "logloss = 0.39869\n",
            "logloss = 2.11319\n"
          ],
          "name": "stdout"
        },
        {
          "output_type": "execute_result",
          "data": {
            "text/plain": [
              "(0.39869077688845617, 0.782458546298285)"
            ]
          },
          "metadata": {
            "tags": []
          },
          "execution_count": 71
        }
      ]
    },
    {
      "cell_type": "code",
      "metadata": {
        "id": "SGllOl-WJcW5",
        "colab_type": "code",
        "colab": {
          "base_uri": "https://localhost:8080/",
          "height": 293
        },
        "outputId": "36b123a8-5ba7-4d63-abd9-83f0eb49ce23"
      },
      "source": [
        "!./ffm-train -p libffm_val_fold_46.txt -r 0.05 -t 30 -l 0.00002 -k 50 --auto-stop libffm_trn_fold_46.txt libffm_fold_46_model\n",
        "!./ffm-predict libffm_val_fold_46.txt libffm_fold_46_model val_preds_fold_46.txt\n",
        "!./ffm-predict libffm_tst_fold_46.txt libffm_fold_46_model tst_preds_fold_46.txt\n",
        "os.remove('libffm_val_fold_46.txt')\n",
        "os.remove('libffm_trn_fold_46.txt')\n",
        "os.remove('libffm_fold_46_model')\n",
        "os.remove('libffm_tst_fold_46.txt')\n",
        "(\n",
        "    log_loss(train['target'].iloc[fold_ids[45][1]], pd.read_csv('val_preds_fold_46.txt', header=None).values[:,0]),\n",
        "    roc_auc_score(train['target'].iloc[fold_ids[45][1]], pd.read_csv('val_preds_fold_46.txt', header=None).values[:,0])\n",
        ")"
      ],
      "execution_count": 72,
      "outputs": [
        {
          "output_type": "stream",
          "text": [
            "First check if the text file has already been converted to binary format (0.0 seconds)\n",
            "Binary file NOT found. Convert text file to binary file (3.3 seconds)\n",
            "First check if the text file has already been converted to binary format (0.0 seconds)\n",
            "Binary file NOT found. Convert text file to binary file (0.1 seconds)\n",
            "iter   tr_logloss   va_logloss      tr_time\n",
            "   1      0.42491      0.40529         10.9\n",
            "   2      0.40202      0.39900         21.3\n",
            "   3      0.39914      0.39737         31.9\n",
            "   4      0.39641      0.39558         42.7\n",
            "   5      0.39333      0.39432         53.4\n",
            "   6      0.39063      0.39366         64.9\n",
            "   7      0.38857      0.39342         75.3\n",
            "   8      0.38678      0.39342\n",
            "Auto-stop. Use model at 7th iteration.\n",
            "logloss = 0.39342\n",
            "logloss = 2.09944\n"
          ],
          "name": "stdout"
        },
        {
          "output_type": "execute_result",
          "data": {
            "text/plain": [
              "(0.3934170986202743, 0.7916988421304851)"
            ]
          },
          "metadata": {
            "tags": []
          },
          "execution_count": 72
        }
      ]
    },
    {
      "cell_type": "code",
      "metadata": {
        "id": "TuPZ9XL5Jhec",
        "colab_type": "code",
        "colab": {
          "base_uri": "https://localhost:8080/",
          "height": 310
        },
        "outputId": "80f3feed-059e-454e-98f3-8f20196ae8be"
      },
      "source": [
        "!./ffm-train -p libffm_val_fold_47.txt -r 0.05 -t 30 -l 0.00002 -k 50 --auto-stop libffm_trn_fold_47.txt libffm_fold_47_model\n",
        "!./ffm-predict libffm_val_fold_47.txt libffm_fold_47_model val_preds_fold_47.txt\n",
        "!./ffm-predict libffm_tst_fold_47.txt libffm_fold_47_model tst_preds_fold_47.txt\n",
        "os.remove('libffm_val_fold_47.txt')\n",
        "os.remove('libffm_trn_fold_47.txt')\n",
        "os.remove('libffm_fold_47_model')\n",
        "os.remove('libffm_tst_fold_47.txt')\n",
        "(\n",
        "    log_loss(train['target'].iloc[fold_ids[46][1]], pd.read_csv('val_preds_fold_47.txt', header=None).values[:,0]),\n",
        "    roc_auc_score(train['target'].iloc[fold_ids[46][1]], pd.read_csv('val_preds_fold_47.txt', header=None).values[:,0])\n",
        ")"
      ],
      "execution_count": 73,
      "outputs": [
        {
          "output_type": "stream",
          "text": [
            "First check if the text file has already been converted to binary format (0.0 seconds)\n",
            "Binary file NOT found. Convert text file to binary file (3.3 seconds)\n",
            "First check if the text file has already been converted to binary format (0.0 seconds)\n",
            "Binary file NOT found. Convert text file to binary file (0.1 seconds)\n",
            "iter   tr_logloss   va_logloss      tr_time\n",
            "   1      0.42501      0.40373         10.5\n",
            "   2      0.40199      0.39951         21.7\n",
            "   3      0.39903      0.39790         32.4\n",
            "   4      0.39618      0.39631         42.9\n",
            "   5      0.39310      0.39441         53.5\n",
            "   6      0.39049      0.39351         64.3\n",
            "   7      0.38848      0.39342         74.8\n",
            "   8      0.38672      0.39329         85.2\n",
            "   9      0.38492      0.39357\n",
            "Auto-stop. Use model at 8th iteration.\n",
            "logloss = 0.39329\n",
            "logloss = 2.12820\n"
          ],
          "name": "stdout"
        },
        {
          "output_type": "execute_result",
          "data": {
            "text/plain": [
              "(0.3932853902624017, 0.7915591888675656)"
            ]
          },
          "metadata": {
            "tags": []
          },
          "execution_count": 73
        }
      ]
    },
    {
      "cell_type": "code",
      "metadata": {
        "id": "_iPGhA4PJoBF",
        "colab_type": "code",
        "colab": {
          "base_uri": "https://localhost:8080/",
          "height": 326
        },
        "outputId": "6bfa7f4a-c5bb-4530-f617-3525df53f150"
      },
      "source": [
        "!./ffm-train -p libffm_val_fold_48.txt -r 0.05 -t 30 -l 0.00002 -k 50 --auto-stop libffm_trn_fold_48.txt libffm_fold_48_model\n",
        "!./ffm-predict libffm_val_fold_48.txt libffm_fold_48_model val_preds_fold_48.txt\n",
        "!./ffm-predict libffm_tst_fold_48.txt libffm_fold_48_model tst_preds_fold_48.txt\n",
        "os.remove('libffm_val_fold_48.txt')\n",
        "os.remove('libffm_trn_fold_48.txt')\n",
        "os.remove('libffm_fold_48_model')\n",
        "os.remove('libffm_tst_fold_48.txt')\n",
        "(\n",
        "    log_loss(train['target'].iloc[fold_ids[47][1]], pd.read_csv('val_preds_fold_48.txt', header=None).values[:,0]),\n",
        "    roc_auc_score(train['target'].iloc[fold_ids[47][1]], pd.read_csv('val_preds_fold_48.txt', header=None).values[:,0])\n",
        ")"
      ],
      "execution_count": 74,
      "outputs": [
        {
          "output_type": "stream",
          "text": [
            "First check if the text file has already been converted to binary format (0.0 seconds)\n",
            "Binary file NOT found. Convert text file to binary file (3.3 seconds)\n",
            "First check if the text file has already been converted to binary format (0.0 seconds)\n",
            "Binary file NOT found. Convert text file to binary file (0.1 seconds)\n",
            "iter   tr_logloss   va_logloss      tr_time\n",
            "   1      0.42489      0.40745         10.5\n",
            "   2      0.40192      0.40344         21.0\n",
            "   3      0.39901      0.40182         32.2\n",
            "   4      0.39623      0.40005         43.4\n",
            "   5      0.39312      0.39847         54.2\n",
            "   6      0.39049      0.39750         66.1\n",
            "   7      0.38839      0.39746         77.7\n",
            "   8      0.38662      0.39736         89.0\n",
            "   9      0.38478      0.39731        100.5\n",
            "  10      0.38287      0.39771\n",
            "Auto-stop. Use model at 9th iteration.\n",
            "logloss = 0.39731\n",
            "logloss = 2.10448\n"
          ],
          "name": "stdout"
        },
        {
          "output_type": "execute_result",
          "data": {
            "text/plain": [
              "(0.3973099259622292, 0.7846999115810726)"
            ]
          },
          "metadata": {
            "tags": []
          },
          "execution_count": 74
        }
      ]
    },
    {
      "cell_type": "code",
      "metadata": {
        "id": "VADvqsA7Jtdm",
        "colab_type": "code",
        "colab": {
          "base_uri": "https://localhost:8080/",
          "height": 293
        },
        "outputId": "f7671a1f-2523-487e-d941-64cd383f752a"
      },
      "source": [
        "!./ffm-train -p libffm_val_fold_49.txt -r 0.05 -t 30 -l 0.00002 -k 50 --auto-stop libffm_trn_fold_49.txt libffm_fold_49_model\n",
        "!./ffm-predict libffm_val_fold_49.txt libffm_fold_49_model val_preds_fold_49.txt\n",
        "!./ffm-predict libffm_tst_fold_49.txt libffm_fold_49_model tst_preds_fold_49.txt\n",
        "os.remove('libffm_val_fold_49.txt')\n",
        "os.remove('libffm_trn_fold_49.txt')\n",
        "os.remove('libffm_fold_49_model')\n",
        "os.remove('libffm_tst_fold_49.txt')\n",
        "(\n",
        "    log_loss(train['target'].iloc[fold_ids[48][1]], pd.read_csv('val_preds_fold_49.txt', header=None).values[:,0]),\n",
        "    roc_auc_score(train['target'].iloc[fold_ids[48][1]], pd.read_csv('val_preds_fold_49.txt', header=None).values[:,0])\n",
        ")"
      ],
      "execution_count": 75,
      "outputs": [
        {
          "output_type": "stream",
          "text": [
            "First check if the text file has already been converted to binary format (0.0 seconds)\n",
            "Binary file NOT found. Convert text file to binary file (3.4 seconds)\n",
            "First check if the text file has already been converted to binary format (0.0 seconds)\n",
            "Binary file NOT found. Convert text file to binary file (0.1 seconds)\n",
            "iter   tr_logloss   va_logloss      tr_time\n",
            "   1      0.42505      0.40262         10.7\n",
            "   2      0.40196      0.39849         21.8\n",
            "   3      0.39908      0.39679         32.3\n",
            "   4      0.39629      0.39469         43.1\n",
            "   5      0.39320      0.39326         53.4\n",
            "   6      0.39057      0.39243         63.8\n",
            "   7      0.38853      0.39233         75.2\n",
            "   8      0.38677      0.39239\n",
            "Auto-stop. Use model at 7th iteration.\n",
            "logloss = 0.39233\n",
            "logloss = 2.11071\n"
          ],
          "name": "stdout"
        },
        {
          "output_type": "execute_result",
          "data": {
            "text/plain": [
              "(0.3923276632902513, 0.793660763994838)"
            ]
          },
          "metadata": {
            "tags": []
          },
          "execution_count": 75
        }
      ]
    },
    {
      "cell_type": "code",
      "metadata": {
        "id": "js4Yc2YkJzMI",
        "colab_type": "code",
        "colab": {
          "base_uri": "https://localhost:8080/",
          "height": 277
        },
        "outputId": "dccf7e63-87a9-4862-8fbe-ce1b6b56970a"
      },
      "source": [
        "!./ffm-train -p libffm_val_fold_50.txt -r 0.05 -t 30 -l 0.00002 -k 50 --auto-stop libffm_trn_fold_50.txt libffm_fold_50_model\n",
        "!./ffm-predict libffm_val_fold_50.txt libffm_fold_50_model val_preds_fold_50.txt\n",
        "!./ffm-predict libffm_tst_fold_50.txt libffm_fold_50_model tst_preds_fold_50.txt\n",
        "os.remove('libffm_val_fold_50.txt')\n",
        "os.remove('libffm_trn_fold_50.txt')\n",
        "os.remove('libffm_fold_50_model')\n",
        "os.remove('libffm_tst_fold_50.txt')\n",
        "(\n",
        "    log_loss(train['target'].iloc[fold_ids[49][1]], pd.read_csv('val_preds_fold_50.txt', header=None).values[:,0]),\n",
        "    roc_auc_score(train['target'].iloc[fold_ids[49][1]], pd.read_csv('val_preds_fold_50.txt', header=None).values[:,0])\n",
        ")"
      ],
      "execution_count": 76,
      "outputs": [
        {
          "output_type": "stream",
          "text": [
            "First check if the text file has already been converted to binary format (0.0 seconds)\n",
            "Binary file NOT found. Convert text file to binary file (3.3 seconds)\n",
            "First check if the text file has already been converted to binary format (0.0 seconds)\n",
            "Binary file NOT found. Convert text file to binary file (0.1 seconds)\n",
            "iter   tr_logloss   va_logloss      tr_time\n",
            "   1      0.42478      0.40974         10.9\n",
            "   2      0.40179      0.40640         21.6\n",
            "   3      0.39888      0.40524         32.9\n",
            "   4      0.39608      0.40403         43.3\n",
            "   5      0.39296      0.40287         55.3\n",
            "   6      0.39032      0.40248         66.4\n",
            "   7      0.38828      0.40256\n",
            "Auto-stop. Use model at 6th iteration.\n",
            "logloss = 0.40248\n",
            "logloss = 2.12053\n"
          ],
          "name": "stdout"
        },
        {
          "output_type": "execute_result",
          "data": {
            "text/plain": [
              "(0.4024831519772115, 0.7790808127641942)"
            ]
          },
          "metadata": {
            "tags": []
          },
          "execution_count": 76
        }
      ]
    },
    {
      "cell_type": "code",
      "metadata": {
        "id": "-hCPcWk_J6JH",
        "colab_type": "code",
        "colab": {
          "base_uri": "https://localhost:8080/",
          "height": 33
        },
        "outputId": "84cca763-b2a6-460d-a50d-ebee10ad8746"
      },
      "source": [
        "oof_preds = np.zeros(train.shape[0])\n",
        "for fold_, (_, val_) in enumerate(fold_ids):\n",
        "    oof_preds[val_] = pd.read_csv(f'val_preds_fold_{fold_+1}.txt', header=None).values[:, 0]\n",
        "oof_score = roc_auc_score(train['target'], oof_preds)\n",
        "print(oof_score)"
      ],
      "execution_count": 77,
      "outputs": [
        {
          "output_type": "stream",
          "text": [
            "0.7873427815436941\n"
          ],
          "name": "stdout"
        }
      ]
    },
    {
      "cell_type": "code",
      "metadata": {
        "id": "TY3zfZjBQ5Yu",
        "colab_type": "code",
        "colab": {}
      },
      "source": [
        "test_preds = np.zeros((test.shape[0], N_SPLITS))\n",
        "for fold_ in range(N_SPLITS):\n",
        "    test_preds[:, fold_] = pd.read_csv(f'tst_preds_fold_{fold_+1}.txt', header=None).values[:, 0]\n",
        "\n",
        "test_preds_avg = test_preds.mean(axis=1)"
      ],
      "execution_count": 0,
      "outputs": []
    },
    {
      "cell_type": "code",
      "metadata": {
        "id": "2BGc7AXJRJrS",
        "colab_type": "code",
        "colab": {}
      },
      "source": [
        "submission = test[['id']].copy()\n",
        "submission['target'] = test_preds_avg\n",
        "submission.to_csv('libffm_sub_531.csv', index=False)"
      ],
      "execution_count": 0,
      "outputs": []
    },
    {
      "cell_type": "code",
      "metadata": {
        "id": "McLNeuvWRUvy",
        "colab_type": "code",
        "colab": {
          "base_uri": "https://localhost:8080/",
          "height": 66
        },
        "outputId": "28021c45-13aa-436d-89b6-f6963ce8b2ce"
      },
      "source": [
        "!kaggle datasets download -d siavrez/bestpublicscores"
      ],
      "execution_count": 82,
      "outputs": [
        {
          "output_type": "stream",
          "text": [
            "Downloading bestpublicscores.zip to /content\n",
            " 41% 9.00M/22.0M [00:00<00:00, 26.8MB/s]\n",
            "100% 22.0M/22.0M [00:00<00:00, 55.7MB/s]\n"
          ],
          "name": "stdout"
        }
      ]
    },
    {
      "cell_type": "code",
      "metadata": {
        "id": "pZk-wjldTQsx",
        "colab_type": "code",
        "colab": {
          "base_uri": "https://localhost:8080/",
          "height": 33
        },
        "outputId": "72f5ee04-2723-4800-8b2f-7a5404dcd2cc"
      },
      "source": [
        "glob.glob('*.zip')"
      ],
      "execution_count": 83,
      "outputs": [
        {
          "output_type": "execute_result",
          "data": {
            "text/plain": [
              "['bestpublicscores.zip']"
            ]
          },
          "metadata": {
            "tags": []
          },
          "execution_count": 83
        }
      ]
    },
    {
      "cell_type": "code",
      "metadata": {
        "id": "I9pHvyRNTg-P",
        "colab_type": "code",
        "colab": {}
      },
      "source": [
        "with zipfile.ZipFile('bestpublicscores.zip','r') as z:\n",
        "  z.extractall('files')"
      ],
      "execution_count": 0,
      "outputs": []
    },
    {
      "cell_type": "code",
      "metadata": {
        "id": "b66UE6xhTssz",
        "colab_type": "code",
        "colab": {
          "base_uri": "https://localhost:8080/",
          "height": 33
        },
        "outputId": "d4918bb1-62e5-44f2-84b5-f36555b3fc9e"
      },
      "source": [
        "os.listdir('files/')"
      ],
      "execution_count": 85,
      "outputs": [
        {
          "output_type": "execute_result",
          "data": {
            "text/plain": [
              "['sub_623.csv', 'sub_626.csv', 'sub_634.csv', 'sub_590.csv', 'sub_600.csv']"
            ]
          },
          "metadata": {
            "tags": []
          },
          "execution_count": 85
        }
      ]
    },
    {
      "cell_type": "code",
      "metadata": {
        "id": "YHHO1LsqTxYL",
        "colab_type": "code",
        "colab": {}
      },
      "source": [
        "!mv libffm_sub_531.csv files/"
      ],
      "execution_count": 0,
      "outputs": []
    },
    {
      "cell_type": "code",
      "metadata": {
        "id": "KyW5VWFYT1-8",
        "colab_type": "code",
        "colab": {}
      },
      "source": [
        "subs = [    \n",
        "    'files/sub_623.csv',\n",
        "    'files/sub_634.csv',\n",
        "    'files/sub_626.csv',\n",
        "    'files/sub_600.csv',\n",
        "    'files/sub_590.csv',\n",
        "    'files/libffm_sub_531.csv'\n",
        "    ]"
      ],
      "execution_count": 0,
      "outputs": []
    },
    {
      "cell_type": "code",
      "metadata": {
        "id": "e_fscBHpUq-O",
        "colab_type": "code",
        "colab": {
          "base_uri": "https://localhost:8080/",
          "height": 391
        },
        "outputId": "20302bb8-3279-4932-89ab-b8b3d087e4a5"
      },
      "source": [
        "predictions = pd.concat([pd.read_csv(sub, index_col='id') for sub in subs], axis=1).reset_index(drop=True)\n",
        "predictions.columns = ['sub_'+str(i) for i in range(6)]\n",
        "predictions"
      ],
      "execution_count": 89,
      "outputs": [
        {
          "output_type": "execute_result",
          "data": {
            "text/html": [
              "<div>\n",
              "<style scoped>\n",
              "    .dataframe tbody tr th:only-of-type {\n",
              "        vertical-align: middle;\n",
              "    }\n",
              "\n",
              "    .dataframe tbody tr th {\n",
              "        vertical-align: top;\n",
              "    }\n",
              "\n",
              "    .dataframe thead th {\n",
              "        text-align: right;\n",
              "    }\n",
              "</style>\n",
              "<table border=\"1\" class=\"dataframe\">\n",
              "  <thead>\n",
              "    <tr style=\"text-align: right;\">\n",
              "      <th></th>\n",
              "      <th>sub_0</th>\n",
              "      <th>sub_1</th>\n",
              "      <th>sub_2</th>\n",
              "      <th>sub_3</th>\n",
              "      <th>sub_4</th>\n",
              "      <th>sub_5</th>\n",
              "    </tr>\n",
              "  </thead>\n",
              "  <tbody>\n",
              "    <tr>\n",
              "      <th>0</th>\n",
              "      <td>0.143216</td>\n",
              "      <td>0.121049</td>\n",
              "      <td>0.141576</td>\n",
              "      <td>0.148931</td>\n",
              "      <td>0.113402</td>\n",
              "      <td>0.137449</td>\n",
              "    </tr>\n",
              "    <tr>\n",
              "      <th>1</th>\n",
              "      <td>0.281658</td>\n",
              "      <td>0.250310</td>\n",
              "      <td>0.277705</td>\n",
              "      <td>0.295009</td>\n",
              "      <td>0.255058</td>\n",
              "      <td>0.218335</td>\n",
              "    </tr>\n",
              "    <tr>\n",
              "      <th>2</th>\n",
              "      <td>0.178905</td>\n",
              "      <td>0.149812</td>\n",
              "      <td>0.170349</td>\n",
              "      <td>0.191913</td>\n",
              "      <td>0.148385</td>\n",
              "      <td>0.157113</td>\n",
              "    </tr>\n",
              "    <tr>\n",
              "      <th>3</th>\n",
              "      <td>0.158748</td>\n",
              "      <td>0.110502</td>\n",
              "      <td>0.144562</td>\n",
              "      <td>0.154665</td>\n",
              "      <td>0.120574</td>\n",
              "      <td>0.123663</td>\n",
              "    </tr>\n",
              "    <tr>\n",
              "      <th>4</th>\n",
              "      <td>0.178045</td>\n",
              "      <td>0.130693</td>\n",
              "      <td>0.161857</td>\n",
              "      <td>0.158441</td>\n",
              "      <td>0.117467</td>\n",
              "      <td>0.143511</td>\n",
              "    </tr>\n",
              "    <tr>\n",
              "      <th>...</th>\n",
              "      <td>...</td>\n",
              "      <td>...</td>\n",
              "      <td>...</td>\n",
              "      <td>...</td>\n",
              "      <td>...</td>\n",
              "      <td>...</td>\n",
              "    </tr>\n",
              "    <tr>\n",
              "      <th>399995</th>\n",
              "      <td>0.550362</td>\n",
              "      <td>0.590368</td>\n",
              "      <td>0.569761</td>\n",
              "      <td>0.609503</td>\n",
              "      <td>0.604607</td>\n",
              "      <td>0.567458</td>\n",
              "    </tr>\n",
              "    <tr>\n",
              "      <th>399996</th>\n",
              "      <td>0.496137</td>\n",
              "      <td>0.496171</td>\n",
              "      <td>0.503265</td>\n",
              "      <td>0.506152</td>\n",
              "      <td>0.422581</td>\n",
              "      <td>0.462789</td>\n",
              "    </tr>\n",
              "    <tr>\n",
              "      <th>399997</th>\n",
              "      <td>0.515212</td>\n",
              "      <td>0.558990</td>\n",
              "      <td>0.527562</td>\n",
              "      <td>0.533580</td>\n",
              "      <td>0.537973</td>\n",
              "      <td>0.518291</td>\n",
              "    </tr>\n",
              "    <tr>\n",
              "      <th>399998</th>\n",
              "      <td>0.290911</td>\n",
              "      <td>0.276005</td>\n",
              "      <td>0.282928</td>\n",
              "      <td>0.279026</td>\n",
              "      <td>0.237512</td>\n",
              "      <td>0.263112</td>\n",
              "    </tr>\n",
              "    <tr>\n",
              "      <th>399999</th>\n",
              "      <td>0.232631</td>\n",
              "      <td>0.216621</td>\n",
              "      <td>0.233892</td>\n",
              "      <td>0.225956</td>\n",
              "      <td>0.177144</td>\n",
              "      <td>0.196343</td>\n",
              "    </tr>\n",
              "  </tbody>\n",
              "</table>\n",
              "<p>400000 rows × 6 columns</p>\n",
              "</div>"
            ],
            "text/plain": [
              "           sub_0     sub_1     sub_2     sub_3     sub_4     sub_5\n",
              "0       0.143216  0.121049  0.141576  0.148931  0.113402  0.137449\n",
              "1       0.281658  0.250310  0.277705  0.295009  0.255058  0.218335\n",
              "2       0.178905  0.149812  0.170349  0.191913  0.148385  0.157113\n",
              "3       0.158748  0.110502  0.144562  0.154665  0.120574  0.123663\n",
              "4       0.178045  0.130693  0.161857  0.158441  0.117467  0.143511\n",
              "...          ...       ...       ...       ...       ...       ...\n",
              "399995  0.550362  0.590368  0.569761  0.609503  0.604607  0.567458\n",
              "399996  0.496137  0.496171  0.503265  0.506152  0.422581  0.462789\n",
              "399997  0.515212  0.558990  0.527562  0.533580  0.537973  0.518291\n",
              "399998  0.290911  0.276005  0.282928  0.279026  0.237512  0.263112\n",
              "399999  0.232631  0.216621  0.233892  0.225956  0.177144  0.196343\n",
              "\n",
              "[400000 rows x 6 columns]"
            ]
          },
          "metadata": {
            "tags": []
          },
          "execution_count": 89
        }
      ]
    },
    {
      "cell_type": "code",
      "metadata": {
        "id": "fB7FUGyYUufy",
        "colab_type": "code",
        "colab": {}
      },
      "source": [
        "test_preds_power_avg = (predictions['sub_0']**2+predictions['sub_1']**2+predictions['sub_2']**2+predictions['sub_3']**2+predictions['sub_4']**2+predictions['sub_5']**2)/6\n",
        "submission = test[['id']].copy()\n",
        "submission['target'] = test_preds_power_avg\n",
        "submission.to_csv('files/sub_power_avg_2.csv', index=False)"
      ],
      "execution_count": 0,
      "outputs": []
    },
    {
      "cell_type": "code",
      "metadata": {
        "id": "HQR42ZmvVlhi",
        "colab_type": "code",
        "colab": {
          "base_uri": "https://localhost:8080/",
          "height": 66
        },
        "outputId": "7fa5dbc4-6622-4004-f7d7-cd0209aa45a1"
      },
      "source": [
        "test_preds_power_avg = (predictions['sub_0']**4+predictions['sub_1']**4+predictions['sub_2']**4+predictions['sub_3']**4+predictions['sub_4']**4+predictions['sub_5']**4)/6\n",
        "submission = test[['id']].copy()\n",
        "submission['target'] = test_preds_power_avg\n",
        "submission.to_csv('files/sub_power_avg_4.csv', index=False)\n",
        "!kaggle competitions submit -c cat-in-the-dat-ii -f files/sub_power_avg_4.csv -m \"sub_power_avg_4\""
      ],
      "execution_count": 96,
      "outputs": [
        {
          "output_type": "stream",
          "text": [
            "Warning: Looks like you're using an outdated API Version, please consider updating (server 1.5.6 / client 1.5.4)\n",
            "100% 10.9M/10.9M [00:02<00:00, 4.55MB/s]\n",
            "Successfully submitted to Categorical Feature Encoding Challenge II"
          ],
          "name": "stdout"
        }
      ]
    },
    {
      "cell_type": "code",
      "metadata": {
        "id": "5h3baSgdd7Ff",
        "colab_type": "code",
        "colab": {
          "base_uri": "https://localhost:8080/",
          "height": 66
        },
        "outputId": "31a14b1e-c876-43f9-e5ca-4ef15bc2e57b"
      },
      "source": [
        "test_preds_power_avg = (predictions['sub_0']**8+predictions['sub_1']**8+predictions['sub_2']**8+predictions['sub_3']**8+predictions['sub_4']**8+predictions['sub_5']**8)/6\n",
        "submission = test[['id']].copy()\n",
        "submission['target'] = test_preds_power_avg\n",
        "submission.to_csv('files/sub_power_avg_8.csv', index=False)\n",
        "!kaggle competitions submit -c cat-in-the-dat-ii -f files/sub_power_avg_8.csv -m \"sub_power_avg_8\""
      ],
      "execution_count": 98,
      "outputs": [
        {
          "output_type": "stream",
          "text": [
            "Warning: Looks like you're using an outdated API Version, please consider updating (server 1.5.6 / client 1.5.4)\n",
            "100% 11.1M/11.1M [00:02<00:00, 4.14MB/s]\n",
            "Successfully submitted to Categorical Feature Encoding Challenge II"
          ],
          "name": "stdout"
        }
      ]
    },
    {
      "cell_type": "code",
      "metadata": {
        "id": "FWFHqnlEfxz9",
        "colab_type": "code",
        "colab": {}
      },
      "source": [
        "for col in predictions.columns:\n",
        "    predictions[col]=predictions[col].rank()/predictions.shape[0]"
      ],
      "execution_count": 0,
      "outputs": []
    },
    {
      "cell_type": "code",
      "metadata": {
        "id": "PlGxIdYogzsw",
        "colab_type": "code",
        "colab": {
          "base_uri": "https://localhost:8080/",
          "height": 705
        },
        "outputId": "9af17e00-825f-41c7-cd2d-09fb1f977b7d"
      },
      "source": [
        "corr = predictions.corr()\n",
        "mask = np.zeros_like(corr, dtype=np.bool)\n",
        "mask[np.triu_indices_from(mask)] = True\n",
        "f, ax = plt.subplots(figsize=(12, 12))\n",
        "sns.heatmap(corr, mask=mask, cmap='Blues', vmin=0.95, center=0, linewidths=1, annot=True, fmt='.4f')\n",
        "plt.show()"
      ],
      "execution_count": 100,
      "outputs": [
        {
          "output_type": "display_data",
          "data": {
            "image/png": "[encoded data removed]",
            "text/plain": [
              "<Figure size 864x864 with 2 Axes>"
            ]
          },
          "metadata": {
            "tags": []
          }
        }
      ]
    },
    {
      "cell_type": "code",
      "metadata": {
        "id": "nksvCphbjM1x",
        "colab_type": "code",
        "colab": {}
      },
      "source": [
        ""
      ],
      "execution_count": 0,
      "outputs": []
    }
  ]
}